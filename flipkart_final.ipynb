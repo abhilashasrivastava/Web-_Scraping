{
 "cells": [
  {
   "cell_type": "code",
   "execution_count": 20,
   "id": "269dd347-fd63-4b32-861f-d6879fe14343",
   "metadata": {
    "tags": []
   },
   "outputs": [],
   "source": [
    "import os\n",
    "import pandas as pd\n",
    "import requests\n",
    "from bs4 import BeautifulSoup"
   ]
  },
  {
   "cell_type": "code",
   "execution_count": 4,
   "id": "60206698-9deb-4f79-ae9c-58608c43db82",
   "metadata": {
    "tags": []
   },
   "outputs": [
    {
     "name": "stdout",
     "output_type": "stream",
     "text": [
      "200\n"
     ]
    }
   ],
   "source": [
    "#main_url = 'https://www.flipkart.com/mobiles/smartphones~type/pr?sid=tyy%2C4io'\n",
    "main_url = 'https://www.flipkart.com/mobiles/smartphones~type/pr?sid=tyy%2C4io&page=' \n",
    "response = requests.get(main_url)\n",
    "contents = response.content\n",
    "\n",
    "\n",
    "print(response.status_code)"
   ]
  },
  {
   "cell_type": "code",
   "execution_count": 21,
   "id": "5c2c4a8c-094f-4dac-a6f4-21ab4952efb9",
   "metadata": {},
   "outputs": [
    {
     "name": "stdin",
     "output_type": "stream",
     "text": [
      "enter the number of pages to scrape 5\n"
     ]
    }
   ],
   "source": [
    "new_url = []\n",
    "main_url = 'https://www.flipkart.com/mobiles/smartphones~type/pr?sid=tyy%2C4io&page=' \n",
    "n=int(input(\"enter the number of pages to scrape\"))\n",
    "for i in range(1,n+1):\n",
    "    url=main_url+ str(i)\n",
    "    new_url.append(url)\n",
    "    "
   ]
  },
  {
   "cell_type": "code",
   "execution_count": 12,
   "id": "b7eb5464-c521-4c0a-bf91-90a2aab6c913",
   "metadata": {},
   "outputs": [],
   "source": [
    "for j in new_url:\n",
    "    scraped_data = scraper(j)\n",
    "    "
   ]
  },
  {
   "cell_type": "code",
   "execution_count": 5,
   "id": "fa2f1184-d441-404a-80a5-46bba76bfc00",
   "metadata": {
    "tags": []
   },
   "outputs": [],
   "source": [
    "with open('name.html', 'w', encoding = 'utf-8') as f:\n",
    "    f.write(str(contents))"
   ]
  },
  {
   "cell_type": "code",
   "execution_count": 22,
   "id": "35d09578-7feb-4f09-9457-e36a0a05b351",
   "metadata": {},
   "outputs": [],
   "source": [
    "    def full_link(link):\n",
    "        index = link.find(\"?\")\n",
    "        if index != -1:\n",
    "            return link[:index]\n",
    "        return link"
   ]
  },
  {
   "cell_type": "code",
   "execution_count": 23,
   "id": "4da57130-9bd2-4d82-b7be-f40056f78263",
   "metadata": {
    "tags": []
   },
   "outputs": [],
   "source": [
    "def scraper(main_url):\n",
    "    mobile_name = []\n",
    "    price = []\n",
    "    product_star = []\n",
    "    product_rating = []\n",
    "    product_links = []\n",
    "    response = requests.get(main_url)\n",
    "    contents = response.content\n",
    "\n",
    "    if response.status_code == 200:\n",
    "        soup = BeautifulSoup(contents, 'html.parser')\n",
    "        for tag in soup.find_all('div',attrs = {'class' : '_2kHMtA'}):\n",
    "            mobile_name.append(tag.find('div', attrs={'class': '_4rR01T'}).text.strip())\n",
    "            price.append(tag.find('div', attrs={'class': '_30jeq3 _1_WHN1'}).text.strip())\n",
    "            try:\n",
    "                product_star.append(tag.find('div', attrs={'class':\"_3LWZlK\"}).text.strip()) \n",
    "            except Exception as e:\n",
    "                product_star.append('no stars found')\n",
    "            product_links.append(full_link(tag.find('a', attrs = {'class' : \"_1fQZEK\", 'href' : True}).get('href')))\n",
    "            try:\n",
    "                product_rating.append(tag.find('span',attrs={'class':\"_2_R_DZ\"}).text.strip())\n",
    "            except Exception as e:\n",
    "                product_rating.append('no rating found')\n",
    "    else:\n",
    "        print(\"status_not_ok\")\n",
    "    data = {\n",
    "    'mobile': mobile_name,\n",
    "    'price': price,\n",
    "    'rating': product_rating,\n",
    "    'star': product_star,\n",
    "    'link': product_links\n",
    "    }\n",
    "\n",
    "    return pd.DataFrame(data)"
   ]
  },
  {
   "cell_type": "code",
   "execution_count": 24,
   "id": "6f75b040-02cd-472a-a38a-c22199cd0303",
   "metadata": {
    "tags": []
   },
   "outputs": [
    {
     "name": "stdin",
     "output_type": "stream",
     "text": [
      "Enter the Name you want to give to the csv file 002\n"
     ]
    }
   ],
   "source": [
    "csv_name = input('Enter the Name you want to give to the csv file')+'.csv'\n",
    "for url in new_url:\n",
    "    scraped_data = scraper(url)\n",
    "    scraped_data.to_csv(csv_name, index=False, mode='a', header=not os.path.isfile(csv_name))\n",
    "#scraped_data.to_csv(csv_name,index = False)"
   ]
  },
  {
   "cell_type": "code",
   "execution_count": null,
   "id": "a7a13cd7-6f00-4cf0-99a8-438e2cdda619",
   "metadata": {},
   "outputs": [],
   "source": []
  }
 ],
 "metadata": {
  "kernelspec": {
   "display_name": "Python 3 (ipykernel)",
   "language": "python",
   "name": "python3"
  },
  "language_info": {
   "codemirror_mode": {
    "name": "ipython",
    "version": 3
   },
   "file_extension": ".py",
   "mimetype": "text/x-python",
   "name": "python",
   "nbconvert_exporter": "python",
   "pygments_lexer": "ipython3",
   "version": "3.9.18"
  }
 },
 "nbformat": 4,
 "nbformat_minor": 5
}
