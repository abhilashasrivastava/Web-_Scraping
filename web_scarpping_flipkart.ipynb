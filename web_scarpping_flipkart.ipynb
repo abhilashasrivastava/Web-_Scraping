{
 "cells": [
  {
   "cell_type": "code",
   "execution_count": 100,
   "id": "3016800b-275f-4d1c-9097-186497d413e9",
   "metadata": {},
   "outputs": [],
   "source": [
    "from bs4 import BeautifulSoup\n",
    "import pandas as pd\n",
    "import requests"
   ]
  },
  {
   "cell_type": "code",
   "execution_count": 101,
   "id": "b32f7f0f-c030-4d0a-bc2f-a32cb8ea5bc8",
   "metadata": {},
   "outputs": [],
   "source": [
    "url = 'https://www.flipkart.com/mobiles/smartphones~type/pr?sid=tyy%2C4io'\n",
    "#HEADERS = ({'User-Agent':'', 'Accept-Language': 'en-US, en;q=0.5'})\n",
    "response = requests.get(url)\n"
   ]
  },
  {
   "cell_type": "code",
   "execution_count": 102,
   "id": "347cca5b-7bb8-4bea-a848-cbc8886f9146",
   "metadata": {},
   "outputs": [
    {
     "name": "stdout",
     "output_type": "stream",
     "text": [
      "200\n"
     ]
    }
   ],
   "source": [
    "print(response.status_code)"
   ]
  },
  {
   "cell_type": "code",
   "execution_count": 103,
   "id": "a453e825-e56d-49be-9670-3232d3b71a13",
   "metadata": {},
   "outputs": [],
   "source": [
    "soup = BeautifulSoup(response.content, 'html.parser')"
   ]
  },
  {
   "cell_type": "code",
   "execution_count": 104,
   "id": "2fddb603-b366-4794-8213-3035e500dffd",
   "metadata": {},
   "outputs": [],
   "source": [
    "mobile_name = []\n",
    "price = []\n",
    "product_Star = []\n",
    "product_rating = []\n",
    "links = []\n",
    "sliced_links = []\n",
    "full_url = []\n",
    "full_urls = []"
   ]
  },
  {
   "cell_type": "code",
   "execution_count": 105,
   "id": "53de343f-865c-4754-9831-f0ed7db92a40",
   "metadata": {},
   "outputs": [],
   "source": [
    "for tag in soup.find_all('div', attrs={'class':\"_4rR01T\"}):\n",
    "    mobile_name.append(tag.text.strip())\n",
    "    "
   ]
  },
  {
   "cell_type": "code",
   "execution_count": 106,
   "id": "a084bb0e-acdb-4614-b733-1270a11e12ee",
   "metadata": {},
   "outputs": [
    {
     "data": {
      "text/plain": [
       "24"
      ]
     },
     "execution_count": 106,
     "metadata": {},
     "output_type": "execute_result"
    }
   ],
   "source": [
    "len(mobile_name)"
   ]
  },
  {
   "cell_type": "code",
   "execution_count": 107,
   "id": "dbdd86a3-52be-4c60-b292-f7b564c00b13",
   "metadata": {},
   "outputs": [],
   "source": [
    "for tag in soup.find_all('div', attrs={'class':\"_30jeq3 _1_WHN1\"}):\n",
    "    price.append(tag.text.strip())"
   ]
  },
  {
   "cell_type": "code",
   "execution_count": 108,
   "id": "78c519f1-0159-4b41-ad79-0ca147850c39",
   "metadata": {},
   "outputs": [
    {
     "data": {
      "text/plain": [
       "24"
      ]
     },
     "execution_count": 108,
     "metadata": {},
     "output_type": "execute_result"
    }
   ],
   "source": [
    "len(price)"
   ]
  },
  {
   "cell_type": "code",
   "execution_count": 109,
   "id": "cdd1e5f6-2884-4c81-bfca-20898adc4caf",
   "metadata": {},
   "outputs": [],
   "source": [
    "for tag in soup.find_all('div', attrs={'class':\"_3LWZlK\"}):\n",
    "    product_Star.append(tag.text.strip())"
   ]
  },
  {
   "cell_type": "code",
   "execution_count": 110,
   "id": "645178e3-30ed-4772-8828-374cb1204e2c",
   "metadata": {},
   "outputs": [
    {
     "data": {
      "text/plain": [
       "38"
      ]
     },
     "execution_count": 110,
     "metadata": {},
     "output_type": "execute_result"
    }
   ],
   "source": [
    "len(product_Star)"
   ]
  },
  {
   "cell_type": "code",
   "execution_count": null,
   "id": "9909a2c7-2cb4-47ec-be3a-772a9bd24c78",
   "metadata": {},
   "outputs": [],
   "source": []
  },
  {
   "cell_type": "code",
   "execution_count": 111,
   "id": "48915491-0957-441a-a3ff-88144874ca44",
   "metadata": {},
   "outputs": [],
   "source": [
    "for tag in soup.find_all('span', attrs={'class':\"_2_R_DZ\"}):\n",
    "    product_rating.append(tag.text.strip())"
   ]
  },
  {
   "cell_type": "code",
   "execution_count": 112,
   "id": "f681ee74-6105-4a52-bbc2-842a21e6bd38",
   "metadata": {},
   "outputs": [
    {
     "data": {
      "text/plain": [
       "23"
      ]
     },
     "execution_count": 112,
     "metadata": {},
     "output_type": "execute_result"
    }
   ],
   "source": [
    "len(product_rating)"
   ]
  },
  {
   "cell_type": "code",
   "execution_count": 113,
   "id": "3f57c134-c252-4225-8143-d6b36fd79a7d",
   "metadata": {},
   "outputs": [
    {
     "data": {
      "text/plain": [
       "'for tag in soup.find_all(\\'a\\', attrs={\\'class\\':\\'_1fQZEK\\' ,\\'href\\' : True}):\\n    links.append(tag[\\'href\\'])\\n    for i in links:\\n        i = i[:i.find(\"?\")]\\n        sliced_links.append(i)\\n        \\n        for j in sliced_links:\\n            full_url = \\'https://www.flipkart.com/\\' +  j\\n            full_urls.append(full_url)'"
      ]
     },
     "execution_count": 113,
     "metadata": {},
     "output_type": "execute_result"
    }
   ],
   "source": [
    "'''for tag in soup.find_all('a', attrs={'class':'_1fQZEK' ,'href' : True}):\n",
    "    links.append(tag['href'])\n",
    "    for i in links:\n",
    "        i = i[:i.find(\"?\")]\n",
    "        sliced_links.append(i)\n",
    "        \n",
    "        for j in sliced_links:\n",
    "            full_url = 'https://www.flipkart.com/' +  j\n",
    "            full_urls.append(full_url)'''\n",
    "    \n",
    "        \n",
    "        \n",
    "   "
   ]
  },
  {
   "cell_type": "code",
   "execution_count": 114,
   "id": "859e287c-4486-4ef3-a9da-3991a06ec227",
   "metadata": {},
   "outputs": [],
   "source": [
    "\n",
    "\n",
    "# Find all anchor tags with class '_1fQZEK' and 'href' attribute\n",
    "for tag in soup.find_all('a', attrs={'class': '_1fQZEK', 'href': True}):\n",
    "    href = tag['href']\n",
    "    # Append the original link to the 'links' list\n",
    "    links.append(href)\n",
    "    # Remove query parameters from the link and append to 'sliced_links'\n",
    "    sliced_link = href.split('?')[0]\n",
    "    sliced_links.append(sliced_link)\n",
    "\n",
    "# Prepend 'https://www.flipkart.com/' to each link in 'sliced_links'\n",
    "for sliced_link in sliced_links:\n",
    "    full_url = 'https://www.flipkart.com/' + sliced_link\n",
    "    full_urls.append(full_url)"
   ]
  },
  {
   "cell_type": "code",
   "execution_count": 115,
   "id": "159686c6-1202-4f89-8873-38d99d0f62a9",
   "metadata": {},
   "outputs": [
    {
     "data": {
      "text/plain": [
       "24"
      ]
     },
     "execution_count": 115,
     "metadata": {},
     "output_type": "execute_result"
    }
   ],
   "source": [
    "len(full_urls)"
   ]
  },
  {
   "cell_type": "code",
   "execution_count": 116,
   "id": "73b57d99-7ac7-4264-afc4-bc8f74bdba76",
   "metadata": {},
   "outputs": [
    {
     "data": {
      "text/plain": [
       "\"# Initialize lists to store links and final URLs\\nlinks = []\\nfull_urls = []\\n\\n# Find all anchor tags with class '_1fQZEK' and 'href' attribute\\nfor tag in soup.find_all('a', class_='_1fQZEK', href=True):\\n    href = tag['href']\\n    # Remove query parameters from the link and prepend 'https://www.flipkart.com/'\\n    full_url = 'https://www.flipkart.com/' + href.split('?')[0]\\n    # Append the full URL to the list\\n    full_urls.append(full_url)\\n\\n# Print or use the final URLs as needed\\nprint(full_urls)\""
      ]
     },
     "execution_count": 116,
     "metadata": {},
     "output_type": "execute_result"
    }
   ],
   "source": [
    "'''# Initialize lists to store links and final URLs\n",
    "links = []\n",
    "full_urls = []\n",
    "\n",
    "# Find all anchor tags with class '_1fQZEK' and 'href' attribute\n",
    "for tag in soup.find_all('a', class_='_1fQZEK', href=True):\n",
    "    href = tag['href']\n",
    "    # Remove query parameters from the link and prepend 'https://www.flipkart.com/'\n",
    "    full_url = 'https://www.flipkart.com/' + href.split('?')[0]\n",
    "    # Append the full URL to the list\n",
    "    full_urls.append(full_url)\n",
    "\n",
    "# Print or use the final URLs as needed\n",
    "print(full_urls)'''"
   ]
  },
  {
   "cell_type": "code",
   "execution_count": 125,
   "id": "0b1d0824-e0b0-4c34-b7f7-23c868f21484",
   "metadata": {},
   "outputs": [],
   "source": [
    "off_price_to = []\n",
    "details = []"
   ]
  },
  {
   "cell_type": "code",
   "execution_count": 122,
   "id": "a19cf646-dcee-4c77-a573-626b0220a900",
   "metadata": {},
   "outputs": [],
   "source": [
    "for tag in soup.find_all('div', attrs={'class' : \"_3I9_wc _27UcVY\"}):\n",
    "    off_price_to.append(tag.text.strip())"
   ]
  },
  {
   "cell_type": "code",
   "execution_count": null,
   "id": "73f89950-81c2-4419-a99a-c698cc0b3494",
   "metadata": {},
   "outputs": [],
   "source": []
  },
  {
   "cell_type": "code",
   "execution_count": 146,
   "id": "dfc079ff-e25c-499c-bd4d-771e86b6ccb3",
   "metadata": {},
   "outputs": [],
   "source": [
    "product_details = []\n",
    "for i in range(len(soup.find_all('ul', attrs = {'class' : '_1xgFaf'}))):\n",
    "    product_details.append(soup.find_all('ul', attrs = {'class' : '_1xgFaf'})[i].text)"
   ]
  },
  {
   "cell_type": "code",
   "execution_count": 169,
   "id": "4c81eb56-f576-4746-85a6-1f8e643ef518",
   "metadata": {},
   "outputs": [],
   "source": [
    "\n",
    "#original_list = [\"apple\", \"banana\", \"orange\", \"grape\", \"kiwi\"]\n",
    "new = []\n",
    "# Initialize empty lists\n",
    "separated_lists = [[] for _ in range(len(product_details))]\n",
    "\n",
    "# Separate the contents of the original list\n",
    "for i, item in enumerate(product_details):\n",
    "    separated_lists[i].append(item)\n",
    "\n",
    "# Print separated lists\n",
    "for i, separated_list in enumerate(separated_lists):\n",
    "    #print(f\"Product {i + 1}: {separated_list}\")\n",
    "    new.append(separated_list)"
   ]
  },
  {
   "cell_type": "code",
   "execution_count": 175,
   "id": "ee5e612c-e6f8-412d-87c7-80f27a59ada9",
   "metadata": {},
   "outputs": [
    {
     "data": {
      "text/plain": [
       "[['8 GB RAM | 128 GB ROM | Expandable Upto 2 TB17.02 cm (6.7 inch) Full HD+ Display64MP + 8MP + 2MP | 32MP Front Camera5000 mAh BatteryDimensity 7050 Processor1 Year Manufacturer Warranty for Device and 6 Months Manufacturer Warranty for Inbox Accessories'],\n",
       " ['8 GB RAM | 128 GB ROM16.26 cm (6.4 inch) Full HD+ Display50MP + 12MP | 10MP Front Camera4500 mAh BatterySamsung Exynos 2200 Processor1 Year Manufacturer Warranty for Device and 6 Months for In-Box Accessories'],\n",
       " ['6 GB RAM | 128 GB ROM | Expandable Upto 1 TB17.04 cm (6.71 inch) HD+ Display50MP Dual Rear Camera | 5MP Front Camera5000 mAh BatteryMediatek Helio G85 Processor1 Year Manufacturer Warranty for Phone and 6 Months Warranty for In the Box Accessories'],\n",
       " ['6 GB RAM | 128 GB ROM | Expandable Upto 1 TB17.04 cm (6.71 inch) HD+ Display50MP Dual Rear Camera | 5MP Front Camera5000 mAh BatteryMediatek Helio G85 Processor1 Year Manufacturer Warranty for Phone and 6 Months Warranty for In the Box Accessories'],\n",
       " ['6 GB RAM | 128 GB ROM | Expandable Upto 1 TB17.04 cm (6.71 inch) HD+ Display50MP Dual Rear Camera | 5MP Front Camera5000 mAh BatteryMediatek Helio G85 Processor1 Year Manufacturer Warranty for Phone and 6 Months Warranty for In the Box Accessories'],\n",
       " ['8 GB RAM | 128 GB ROM16.51 cm (6.5 inch) HD+ Display50MP + 2MP | 16MP Front Camera5000 mAh BatterySnapdragon 695 5G ProcessorVegan Leather Design1 Year on Handset and 6 Months on Accessories'],\n",
       " ['6 GB RAM | 128 GB ROM | Expandable Upto 1 TB16.56 cm (6.52 inch) HD+ Display8MP Rear Camera | 5MP Front Camera5000 mAh Lithium Polymer BatteryHelio G36 Processor1 Year Manufacturer Warranty for Phone and 6 Months Warranty for In the Box Accessories'],\n",
       " ['8 GB RAM | 256 GB ROM16.26 cm (6.4 inch) Full HD+ Display50MP + 12MP | 10MP Front Camera4500 mAh BatterySamsung Exynos 2200 Processor1 Year Manufacturer Warranty for Device and 6 Months for In-Box Accessories'],\n",
       " ['4 GB RAM | 64 GB ROM | Expandable Upto 1 TB16.56 cm (6.52 inch) HD+ Display8MP Dual Rear Camera | 5MP Front Camera5000 mAh BatteryHelio G36 Processor1 Year Manufacturer Warranty for Phone and 6 Months Warranty for in the Box Accessories'],\n",
       " ['8 GB RAM | 128 GB ROM16.51 cm (6.5 inch) HD+ Display50MP + 2MP | 16MP Front Camera5000 mAh BatterySnapdragon 695 5G Processor1 Year on Handset and 6 Months on Accessories'],\n",
       " ['8 GB RAM | 256 GB ROM16.26 cm (6.4 inch) Full HD+ Display50MP + 12MP | 10MP Front Camera4500 mAh BatterySamsung Exynos 2200 Processor1 Year Manufacturer Warranty for Device and 6 Months for In-Box Accessories'],\n",
       " ['8 GB RAM | 128 GB ROM16.26 cm (6.4 inch) Full HD+ Display50MP + 12MP | 10MP Front Camera4500 mAh BatterySamsung Exynos 2200 Processor1 Year Manufacturer Warranty for Device and 6 Months for In-Box Accessories'],\n",
       " ['8 GB RAM | 128 GB ROM16.71 cm (6.58 inch) Full HD+ Display50MP + 2MP | 8MP Front Camera5000 mAh BatteryMediatek Dimensity 6020 Processor1 Year of Device & 6 Months for Inbox Accessories'],\n",
       " ['8 GB RAM | 128 GB ROM16.51 cm (6.5 inch) HD+ Display50MP + 2MP | 16MP Front Camera5000 mAh BatterySnapdragon 695 5G Processor1 Year on Handset and 6 Months on Accessories'],\n",
       " ['6 GB RAM | 128 GB ROM16.71 cm (6.58 inch) Full HD+ Display50MP + 2MP | 8MP Front Camera5000 mAh BatteryMediatek Dimensity 6020 Processor1 Year of Device & 6 Months for Inbox Accessories'],\n",
       " ['6 GB RAM | 128 GB ROM16.71 cm (6.58 inch) Full HD+ Display50MP + 2MP | 8MP Front Camera5000 mAh BatteryMediatek Dimensity 6020 Processor1 Year of Device & 6 Months for Inbox Accessories'],\n",
       " ['8 GB RAM | 128 GB ROM16.26 cm (6.4 inch) Full HD+ Display50MP + 12MP | 10MP Front Camera4500 mAh BatterySamsung Exynos 2200 Processor1 Year Manufacturer Warranty for Device and 6 Months for In-Box Accessories'],\n",
       " ['8 GB RAM | 256 GB ROM16.26 cm (6.4 inch) Full HD+ Display50MP + 12MP | 10MP Front Camera4500 mAh BatterySamsung Exynos 2200 Processor1 Year Manufacturer Warranty for Device and 6 Months for In-Box Accessories'],\n",
       " ['6 GB RAM | 128 GB ROM16.71 cm (6.58 inch) Full HD+ Display50MP + 2MP | 8MP Front Camera5000 mAh BatteryMediatek Dimensity 6020 Processor1 Year of Device & 6 Months for Inbox Accessories'],\n",
       " ['8 GB RAM | 128 GB ROM16.71 cm (6.58 inch) Full HD+ Display50MP + 2MP | 8MP Front Camera5000 mAh BatteryMediatek Dimensity 6020 Processor1 Year of Device & 6 Months for Inbox Accessories'],\n",
       " ['8 GB RAM | 128 GB ROM16.71 cm (6.58 inch) Full HD+ Display50MP + 2MP | 8MP Front Camera5000 mAh BatteryMediatek Dimensity 6020 Processor1 Year of Device & 6 Months for Inbox Accessories'],\n",
       " ['4 GB RAM | 128 GB ROM16.71 cm (6.58 inch) Full HD+ Display50MP + 2MP | 8MP Front Camera5000 mAh BatteryMediatek Dimensity 6020 Processor1 Year of Device & 6 Months for Inbox Accessories'],\n",
       " ['4 GB RAM | 128 GB ROM16.71 cm (6.58 inch) Full HD+ Display50MP + 2MP | 8MP Front Camera5000 mAh BatteryMediatek Dimensity 6020 Processor1 Year of Device & 6 Months for Inbox Accessories'],\n",
       " ['4 GB RAM | 128 GB ROM16.71 cm (6.58 inch) Full HD+ Display50MP + 2MP | 8MP Front Camera5000 mAh BatteryMediatek Dimensity 6020 Processor1 Year of Device & 6 Months for Inbox Accessories']]"
      ]
     },
     "execution_count": 175,
     "metadata": {},
     "output_type": "execute_result"
    }
   ],
   "source": [
    "separated_lists"
   ]
  },
  {
   "cell_type": "code",
   "execution_count": null,
   "id": "a7c7a620-aaba-4b85-823a-3bfadc91d27a",
   "metadata": {},
   "outputs": [],
   "source": []
  },
  {
   "cell_type": "code",
   "execution_count": null,
   "id": "932e32c6-43ec-4969-82ea-8e066102414b",
   "metadata": {},
   "outputs": [],
   "source": []
  },
  {
   "cell_type": "code",
   "execution_count": null,
   "id": "cbfe0ab8-1dde-4c67-b2fd-e8b10066dc9b",
   "metadata": {},
   "outputs": [],
   "source": []
  },
  {
   "cell_type": "code",
   "execution_count": null,
   "id": "d2d1e312-e8e3-4952-a45a-0affa592196c",
   "metadata": {},
   "outputs": [],
   "source": []
  },
  {
   "cell_type": "code",
   "execution_count": 180,
   "id": "4c2942fc-bd2b-4c25-8688-709ccc0a57c7",
   "metadata": {},
   "outputs": [],
   "source": [
    "data = {\n",
    "    'mobile_name' : mobile_name,\n",
    "    'price' : price,\n",
    "    'off_price' : off_price_to,\n",
    "    #'product_Star' : product_Star,\n",
    "    #'product_rating' : product_rating,\n",
    "    'full_urls' : full_urls,\n",
    "    'details' : product_details\n",
    "}"
   ]
  },
  {
   "cell_type": "code",
   "execution_count": 181,
   "id": "edb58c3c-7a97-49c6-bc18-149a624bc996",
   "metadata": {},
   "outputs": [
    {
     "ename": "ValueError",
     "evalue": "All arrays must be of the same length",
     "output_type": "error",
     "traceback": [
      "\u001b[1;31m---------------------------------------------------------------------------\u001b[0m",
      "\u001b[1;31mValueError\u001b[0m                                Traceback (most recent call last)",
      "Cell \u001b[1;32mIn[181], line 1\u001b[0m\n\u001b[1;32m----> 1\u001b[0m df \u001b[38;5;241m=\u001b[39m \u001b[43mpd\u001b[49m\u001b[38;5;241;43m.\u001b[39;49m\u001b[43mDataFrame\u001b[49m\u001b[43m(\u001b[49m\u001b[43mdata\u001b[49m\u001b[43m)\u001b[49m\n",
      "File \u001b[1;32m~\\anaconda3\\lib\\site-packages\\pandas\\core\\frame.py:636\u001b[0m, in \u001b[0;36mDataFrame.__init__\u001b[1;34m(self, data, index, columns, dtype, copy)\u001b[0m\n\u001b[0;32m    630\u001b[0m     mgr \u001b[38;5;241m=\u001b[39m \u001b[38;5;28mself\u001b[39m\u001b[38;5;241m.\u001b[39m_init_mgr(\n\u001b[0;32m    631\u001b[0m         data, axes\u001b[38;5;241m=\u001b[39m{\u001b[38;5;124m\"\u001b[39m\u001b[38;5;124mindex\u001b[39m\u001b[38;5;124m\"\u001b[39m: index, \u001b[38;5;124m\"\u001b[39m\u001b[38;5;124mcolumns\u001b[39m\u001b[38;5;124m\"\u001b[39m: columns}, dtype\u001b[38;5;241m=\u001b[39mdtype, copy\u001b[38;5;241m=\u001b[39mcopy\n\u001b[0;32m    632\u001b[0m     )\n\u001b[0;32m    634\u001b[0m \u001b[38;5;28;01melif\u001b[39;00m \u001b[38;5;28misinstance\u001b[39m(data, \u001b[38;5;28mdict\u001b[39m):\n\u001b[0;32m    635\u001b[0m     \u001b[38;5;66;03m# GH#38939 de facto copy defaults to False only in non-dict cases\u001b[39;00m\n\u001b[1;32m--> 636\u001b[0m     mgr \u001b[38;5;241m=\u001b[39m \u001b[43mdict_to_mgr\u001b[49m\u001b[43m(\u001b[49m\u001b[43mdata\u001b[49m\u001b[43m,\u001b[49m\u001b[43m \u001b[49m\u001b[43mindex\u001b[49m\u001b[43m,\u001b[49m\u001b[43m \u001b[49m\u001b[43mcolumns\u001b[49m\u001b[43m,\u001b[49m\u001b[43m \u001b[49m\u001b[43mdtype\u001b[49m\u001b[38;5;241;43m=\u001b[39;49m\u001b[43mdtype\u001b[49m\u001b[43m,\u001b[49m\u001b[43m \u001b[49m\u001b[43mcopy\u001b[49m\u001b[38;5;241;43m=\u001b[39;49m\u001b[43mcopy\u001b[49m\u001b[43m,\u001b[49m\u001b[43m \u001b[49m\u001b[43mtyp\u001b[49m\u001b[38;5;241;43m=\u001b[39;49m\u001b[43mmanager\u001b[49m\u001b[43m)\u001b[49m\n\u001b[0;32m    637\u001b[0m \u001b[38;5;28;01melif\u001b[39;00m \u001b[38;5;28misinstance\u001b[39m(data, ma\u001b[38;5;241m.\u001b[39mMaskedArray):\n\u001b[0;32m    638\u001b[0m     \u001b[38;5;28;01mimport\u001b[39;00m \u001b[38;5;21;01mnumpy\u001b[39;00m\u001b[38;5;21;01m.\u001b[39;00m\u001b[38;5;21;01mma\u001b[39;00m\u001b[38;5;21;01m.\u001b[39;00m\u001b[38;5;21;01mmrecords\u001b[39;00m \u001b[38;5;28;01mas\u001b[39;00m \u001b[38;5;21;01mmrecords\u001b[39;00m\n",
      "File \u001b[1;32m~\\anaconda3\\lib\\site-packages\\pandas\\core\\internals\\construction.py:502\u001b[0m, in \u001b[0;36mdict_to_mgr\u001b[1;34m(data, index, columns, dtype, typ, copy)\u001b[0m\n\u001b[0;32m    494\u001b[0m     arrays \u001b[38;5;241m=\u001b[39m [\n\u001b[0;32m    495\u001b[0m         x\n\u001b[0;32m    496\u001b[0m         \u001b[38;5;28;01mif\u001b[39;00m \u001b[38;5;129;01mnot\u001b[39;00m \u001b[38;5;28mhasattr\u001b[39m(x, \u001b[38;5;124m\"\u001b[39m\u001b[38;5;124mdtype\u001b[39m\u001b[38;5;124m\"\u001b[39m) \u001b[38;5;129;01mor\u001b[39;00m \u001b[38;5;129;01mnot\u001b[39;00m \u001b[38;5;28misinstance\u001b[39m(x\u001b[38;5;241m.\u001b[39mdtype, ExtensionDtype)\n\u001b[0;32m    497\u001b[0m         \u001b[38;5;28;01melse\u001b[39;00m x\u001b[38;5;241m.\u001b[39mcopy()\n\u001b[0;32m    498\u001b[0m         \u001b[38;5;28;01mfor\u001b[39;00m x \u001b[38;5;129;01min\u001b[39;00m arrays\n\u001b[0;32m    499\u001b[0m     ]\n\u001b[0;32m    500\u001b[0m     \u001b[38;5;66;03m# TODO: can we get rid of the dt64tz special case above?\u001b[39;00m\n\u001b[1;32m--> 502\u001b[0m \u001b[38;5;28;01mreturn\u001b[39;00m \u001b[43marrays_to_mgr\u001b[49m\u001b[43m(\u001b[49m\u001b[43marrays\u001b[49m\u001b[43m,\u001b[49m\u001b[43m \u001b[49m\u001b[43mcolumns\u001b[49m\u001b[43m,\u001b[49m\u001b[43m \u001b[49m\u001b[43mindex\u001b[49m\u001b[43m,\u001b[49m\u001b[43m \u001b[49m\u001b[43mdtype\u001b[49m\u001b[38;5;241;43m=\u001b[39;49m\u001b[43mdtype\u001b[49m\u001b[43m,\u001b[49m\u001b[43m \u001b[49m\u001b[43mtyp\u001b[49m\u001b[38;5;241;43m=\u001b[39;49m\u001b[43mtyp\u001b[49m\u001b[43m,\u001b[49m\u001b[43m \u001b[49m\u001b[43mconsolidate\u001b[49m\u001b[38;5;241;43m=\u001b[39;49m\u001b[43mcopy\u001b[49m\u001b[43m)\u001b[49m\n",
      "File \u001b[1;32m~\\anaconda3\\lib\\site-packages\\pandas\\core\\internals\\construction.py:120\u001b[0m, in \u001b[0;36marrays_to_mgr\u001b[1;34m(arrays, columns, index, dtype, verify_integrity, typ, consolidate)\u001b[0m\n\u001b[0;32m    117\u001b[0m \u001b[38;5;28;01mif\u001b[39;00m verify_integrity:\n\u001b[0;32m    118\u001b[0m     \u001b[38;5;66;03m# figure out the index, if necessary\u001b[39;00m\n\u001b[0;32m    119\u001b[0m     \u001b[38;5;28;01mif\u001b[39;00m index \u001b[38;5;129;01mis\u001b[39;00m \u001b[38;5;28;01mNone\u001b[39;00m:\n\u001b[1;32m--> 120\u001b[0m         index \u001b[38;5;241m=\u001b[39m \u001b[43m_extract_index\u001b[49m\u001b[43m(\u001b[49m\u001b[43marrays\u001b[49m\u001b[43m)\u001b[49m\n\u001b[0;32m    121\u001b[0m     \u001b[38;5;28;01melse\u001b[39;00m:\n\u001b[0;32m    122\u001b[0m         index \u001b[38;5;241m=\u001b[39m ensure_index(index)\n",
      "File \u001b[1;32m~\\anaconda3\\lib\\site-packages\\pandas\\core\\internals\\construction.py:674\u001b[0m, in \u001b[0;36m_extract_index\u001b[1;34m(data)\u001b[0m\n\u001b[0;32m    672\u001b[0m lengths \u001b[38;5;241m=\u001b[39m \u001b[38;5;28mlist\u001b[39m(\u001b[38;5;28mset\u001b[39m(raw_lengths))\n\u001b[0;32m    673\u001b[0m \u001b[38;5;28;01mif\u001b[39;00m \u001b[38;5;28mlen\u001b[39m(lengths) \u001b[38;5;241m>\u001b[39m \u001b[38;5;241m1\u001b[39m:\n\u001b[1;32m--> 674\u001b[0m     \u001b[38;5;28;01mraise\u001b[39;00m \u001b[38;5;167;01mValueError\u001b[39;00m(\u001b[38;5;124m\"\u001b[39m\u001b[38;5;124mAll arrays must be of the same length\u001b[39m\u001b[38;5;124m\"\u001b[39m)\n\u001b[0;32m    676\u001b[0m \u001b[38;5;28;01mif\u001b[39;00m have_dicts:\n\u001b[0;32m    677\u001b[0m     \u001b[38;5;28;01mraise\u001b[39;00m \u001b[38;5;167;01mValueError\u001b[39;00m(\n\u001b[0;32m    678\u001b[0m         \u001b[38;5;124m\"\u001b[39m\u001b[38;5;124mMixing dicts with non-Series may lead to ambiguous ordering.\u001b[39m\u001b[38;5;124m\"\u001b[39m\n\u001b[0;32m    679\u001b[0m     )\n",
      "\u001b[1;31mValueError\u001b[0m: All arrays must be of the same length"
     ]
    }
   ],
   "source": [
    "df = pd.DataFrame(data)"
   ]
  },
  {
   "cell_type": "code",
   "execution_count": 182,
   "id": "8c084919-7b15-434b-b451-caaabfb4c8fc",
   "metadata": {},
   "outputs": [],
   "source": [
    "df.to_csv('flipkart')"
   ]
  },
  {
   "cell_type": "code",
   "execution_count": 179,
   "id": "4f96812e-d5c0-45ce-bbd8-9e6ec7697245",
   "metadata": {},
   "outputs": [
    {
     "data": {
      "text/html": [
       "<div>\n",
       "<style scoped>\n",
       "    .dataframe tbody tr th:only-of-type {\n",
       "        vertical-align: middle;\n",
       "    }\n",
       "\n",
       "    .dataframe tbody tr th {\n",
       "        vertical-align: top;\n",
       "    }\n",
       "\n",
       "    .dataframe thead th {\n",
       "        text-align: right;\n",
       "    }\n",
       "</style>\n",
       "<table border=\"1\" class=\"dataframe\">\n",
       "  <thead>\n",
       "    <tr style=\"text-align: right;\">\n",
       "      <th></th>\n",
       "      <th>mobile_name</th>\n",
       "      <th>price</th>\n",
       "      <th>full_urls</th>\n",
       "      <th>details</th>\n",
       "    </tr>\n",
       "  </thead>\n",
       "  <tbody>\n",
       "    <tr>\n",
       "      <th>0</th>\n",
       "      <td>OPPO F25 Pro 5G (Lava Red, 128 GB)</td>\n",
       "      <td>₹23,999</td>\n",
       "      <td>https://www.flipkart.com//oppo-f25-pro-5g-lava...</td>\n",
       "      <td>8 GB RAM | 128 GB ROM | Expandable Upto 2 TB17...</td>\n",
       "    </tr>\n",
       "    <tr>\n",
       "      <th>1</th>\n",
       "      <td>SAMSUNG Galaxy S23 FE (Purple, 128 GB)</td>\n",
       "      <td>₹54,999</td>\n",
       "      <td>https://www.flipkart.com//samsung-galaxy-s23-f...</td>\n",
       "      <td>8 GB RAM | 128 GB ROM16.26 cm (6.4 inch) Full ...</td>\n",
       "    </tr>\n",
       "    <tr>\n",
       "      <th>2</th>\n",
       "      <td>POCO C55 (Cool Blue, 128 GB)</td>\n",
       "      <td>₹6,499</td>\n",
       "      <td>https://www.flipkart.com//poco-c55-cool-blue-1...</td>\n",
       "      <td>6 GB RAM | 128 GB ROM | Expandable Upto 1 TB17...</td>\n",
       "    </tr>\n",
       "    <tr>\n",
       "      <th>3</th>\n",
       "      <td>POCO C55 (Power Black, 128 GB)</td>\n",
       "      <td>₹6,499</td>\n",
       "      <td>https://www.flipkart.com//poco-c55-power-black...</td>\n",
       "      <td>6 GB RAM | 128 GB ROM | Expandable Upto 1 TB17...</td>\n",
       "    </tr>\n",
       "    <tr>\n",
       "      <th>4</th>\n",
       "      <td>POCO C55 (Forest Green, 128 GB)</td>\n",
       "      <td>₹6,499</td>\n",
       "      <td>https://www.flipkart.com//poco-c55-forest-gree...</td>\n",
       "      <td>6 GB RAM | 128 GB ROM | Expandable Upto 1 TB17...</td>\n",
       "    </tr>\n",
       "    <tr>\n",
       "      <th>5</th>\n",
       "      <td>Motorola G34 5G (Ocean Green, 128 GB)</td>\n",
       "      <td>₹11,999</td>\n",
       "      <td>https://www.flipkart.com//motorola-g34-5g-ocea...</td>\n",
       "      <td>8 GB RAM | 128 GB ROM16.51 cm (6.5 inch) HD+ D...</td>\n",
       "    </tr>\n",
       "    <tr>\n",
       "      <th>6</th>\n",
       "      <td>POCO C51 (Royal Blue, 128 GB)</td>\n",
       "      <td>₹5,999</td>\n",
       "      <td>https://www.flipkart.com//poco-c51-royal-blue-...</td>\n",
       "      <td>6 GB RAM | 128 GB ROM | Expandable Upto 1 TB16...</td>\n",
       "    </tr>\n",
       "    <tr>\n",
       "      <th>7</th>\n",
       "      <td>SAMSUNG Galaxy S23 FE (Graphite, 256 GB)</td>\n",
       "      <td>₹59,999</td>\n",
       "      <td>https://www.flipkart.com//samsung-galaxy-s23-f...</td>\n",
       "      <td>8 GB RAM | 256 GB ROM16.26 cm (6.4 inch) Full ...</td>\n",
       "    </tr>\n",
       "    <tr>\n",
       "      <th>8</th>\n",
       "      <td>POCO C51 (Royal Blue, 64 GB)</td>\n",
       "      <td>₹5,499</td>\n",
       "      <td>https://www.flipkart.com//poco-c51-royal-blue-...</td>\n",
       "      <td>4 GB RAM | 64 GB ROM | Expandable Upto 1 TB16....</td>\n",
       "    </tr>\n",
       "    <tr>\n",
       "      <th>9</th>\n",
       "      <td>Motorola G34 5G (Ice Blue, 128 GB)</td>\n",
       "      <td>₹11,999</td>\n",
       "      <td>https://www.flipkart.com//motorola-g34-5g-ice-...</td>\n",
       "      <td>8 GB RAM | 128 GB ROM16.51 cm (6.5 inch) HD+ D...</td>\n",
       "    </tr>\n",
       "    <tr>\n",
       "      <th>10</th>\n",
       "      <td>SAMSUNG Galaxy S23 FE (Mint, 256 GB)</td>\n",
       "      <td>₹59,999</td>\n",
       "      <td>https://www.flipkart.com//samsung-galaxy-s23-f...</td>\n",
       "      <td>8 GB RAM | 256 GB ROM16.26 cm (6.4 inch) Full ...</td>\n",
       "    </tr>\n",
       "    <tr>\n",
       "      <th>11</th>\n",
       "      <td>SAMSUNG Galaxy S23 FE (Mint, 128 GB)</td>\n",
       "      <td>₹54,999</td>\n",
       "      <td>https://www.flipkart.com//samsung-galaxy-s23-f...</td>\n",
       "      <td>8 GB RAM | 128 GB ROM16.26 cm (6.4 inch) Full ...</td>\n",
       "    </tr>\n",
       "    <tr>\n",
       "      <th>12</th>\n",
       "      <td>vivo T2x 5G (Aurora Gold, 128 GB)</td>\n",
       "      <td>₹14,999</td>\n",
       "      <td>https://www.flipkart.com//vivo-t2x-5g-aurora-g...</td>\n",
       "      <td>8 GB RAM | 128 GB ROM16.71 cm (6.58 inch) Full...</td>\n",
       "    </tr>\n",
       "    <tr>\n",
       "      <th>13</th>\n",
       "      <td>Motorola G34 5G (Charcoal Black, 128 GB)</td>\n",
       "      <td>₹11,999</td>\n",
       "      <td>https://www.flipkart.com//motorola-g34-5g-char...</td>\n",
       "      <td>8 GB RAM | 128 GB ROM16.51 cm (6.5 inch) HD+ D...</td>\n",
       "    </tr>\n",
       "    <tr>\n",
       "      <th>14</th>\n",
       "      <td>vivo T2x 5G (Glimmer Black, 128 GB)</td>\n",
       "      <td>₹12,999</td>\n",
       "      <td>https://www.flipkart.com//vivo-t2x-5g-glimmer-...</td>\n",
       "      <td>6 GB RAM | 128 GB ROM16.71 cm (6.58 inch) Full...</td>\n",
       "    </tr>\n",
       "    <tr>\n",
       "      <th>15</th>\n",
       "      <td>vivo T2x 5G (Marine Blue, 128 GB)</td>\n",
       "      <td>₹12,999</td>\n",
       "      <td>https://www.flipkart.com//vivo-t2x-5g-marine-b...</td>\n",
       "      <td>6 GB RAM | 128 GB ROM16.71 cm (6.58 inch) Full...</td>\n",
       "    </tr>\n",
       "    <tr>\n",
       "      <th>16</th>\n",
       "      <td>SAMSUNG Galaxy S23 FE (Graphite, 128 GB)</td>\n",
       "      <td>₹54,999</td>\n",
       "      <td>https://www.flipkart.com//samsung-galaxy-s23-f...</td>\n",
       "      <td>8 GB RAM | 128 GB ROM16.26 cm (6.4 inch) Full ...</td>\n",
       "    </tr>\n",
       "    <tr>\n",
       "      <th>17</th>\n",
       "      <td>SAMSUNG Galaxy S23 FE (Purple, 256 GB)</td>\n",
       "      <td>₹59,999</td>\n",
       "      <td>https://www.flipkart.com//samsung-galaxy-s23-f...</td>\n",
       "      <td>8 GB RAM | 256 GB ROM16.26 cm (6.4 inch) Full ...</td>\n",
       "    </tr>\n",
       "    <tr>\n",
       "      <th>18</th>\n",
       "      <td>vivo T2x 5G (Aurora Gold, 128 GB)</td>\n",
       "      <td>₹12,999</td>\n",
       "      <td>https://www.flipkart.com//vivo-t2x-5g-aurora-g...</td>\n",
       "      <td>6 GB RAM | 128 GB ROM16.71 cm (6.58 inch) Full...</td>\n",
       "    </tr>\n",
       "    <tr>\n",
       "      <th>19</th>\n",
       "      <td>vivo T2x 5G (Marine Blue, 128 GB)</td>\n",
       "      <td>₹14,999</td>\n",
       "      <td>https://www.flipkart.com//vivo-t2x-5g-marine-b...</td>\n",
       "      <td>8 GB RAM | 128 GB ROM16.71 cm (6.58 inch) Full...</td>\n",
       "    </tr>\n",
       "    <tr>\n",
       "      <th>20</th>\n",
       "      <td>vivo T2x 5G (Glimmer Black, 128 GB)</td>\n",
       "      <td>₹14,999</td>\n",
       "      <td>https://www.flipkart.com//vivo-t2x-5g-glimmer-...</td>\n",
       "      <td>8 GB RAM | 128 GB ROM16.71 cm (6.58 inch) Full...</td>\n",
       "    </tr>\n",
       "    <tr>\n",
       "      <th>21</th>\n",
       "      <td>vivo T2x 5G (Glimmer Black, 128 GB)</td>\n",
       "      <td>₹11,999</td>\n",
       "      <td>https://www.flipkart.com//vivo-t2x-5g-glimmer-...</td>\n",
       "      <td>4 GB RAM | 128 GB ROM16.71 cm (6.58 inch) Full...</td>\n",
       "    </tr>\n",
       "    <tr>\n",
       "      <th>22</th>\n",
       "      <td>vivo T2x 5G (Aurora Gold, 128 GB)</td>\n",
       "      <td>₹11,999</td>\n",
       "      <td>https://www.flipkart.com//vivo-t2x-5g-aurora-g...</td>\n",
       "      <td>4 GB RAM | 128 GB ROM16.71 cm (6.58 inch) Full...</td>\n",
       "    </tr>\n",
       "    <tr>\n",
       "      <th>23</th>\n",
       "      <td>vivo T2x 5G (Marine Blue, 128 GB)</td>\n",
       "      <td>₹11,999</td>\n",
       "      <td>https://www.flipkart.com//vivo-t2x-5g-marine-b...</td>\n",
       "      <td>4 GB RAM | 128 GB ROM16.71 cm (6.58 inch) Full...</td>\n",
       "    </tr>\n",
       "  </tbody>\n",
       "</table>\n",
       "</div>"
      ],
      "text/plain": [
       "                                 mobile_name    price  \\\n",
       "0         OPPO F25 Pro 5G (Lava Red, 128 GB)  ₹23,999   \n",
       "1     SAMSUNG Galaxy S23 FE (Purple, 128 GB)  ₹54,999   \n",
       "2               POCO C55 (Cool Blue, 128 GB)   ₹6,499   \n",
       "3             POCO C55 (Power Black, 128 GB)   ₹6,499   \n",
       "4            POCO C55 (Forest Green, 128 GB)   ₹6,499   \n",
       "5      Motorola G34 5G (Ocean Green, 128 GB)  ₹11,999   \n",
       "6              POCO C51 (Royal Blue, 128 GB)   ₹5,999   \n",
       "7   SAMSUNG Galaxy S23 FE (Graphite, 256 GB)  ₹59,999   \n",
       "8               POCO C51 (Royal Blue, 64 GB)   ₹5,499   \n",
       "9         Motorola G34 5G (Ice Blue, 128 GB)  ₹11,999   \n",
       "10      SAMSUNG Galaxy S23 FE (Mint, 256 GB)  ₹59,999   \n",
       "11      SAMSUNG Galaxy S23 FE (Mint, 128 GB)  ₹54,999   \n",
       "12         vivo T2x 5G (Aurora Gold, 128 GB)  ₹14,999   \n",
       "13  Motorola G34 5G (Charcoal Black, 128 GB)  ₹11,999   \n",
       "14       vivo T2x 5G (Glimmer Black, 128 GB)  ₹12,999   \n",
       "15         vivo T2x 5G (Marine Blue, 128 GB)  ₹12,999   \n",
       "16  SAMSUNG Galaxy S23 FE (Graphite, 128 GB)  ₹54,999   \n",
       "17    SAMSUNG Galaxy S23 FE (Purple, 256 GB)  ₹59,999   \n",
       "18         vivo T2x 5G (Aurora Gold, 128 GB)  ₹12,999   \n",
       "19         vivo T2x 5G (Marine Blue, 128 GB)  ₹14,999   \n",
       "20       vivo T2x 5G (Glimmer Black, 128 GB)  ₹14,999   \n",
       "21       vivo T2x 5G (Glimmer Black, 128 GB)  ₹11,999   \n",
       "22         vivo T2x 5G (Aurora Gold, 128 GB)  ₹11,999   \n",
       "23         vivo T2x 5G (Marine Blue, 128 GB)  ₹11,999   \n",
       "\n",
       "                                            full_urls  \\\n",
       "0   https://www.flipkart.com//oppo-f25-pro-5g-lava...   \n",
       "1   https://www.flipkart.com//samsung-galaxy-s23-f...   \n",
       "2   https://www.flipkart.com//poco-c55-cool-blue-1...   \n",
       "3   https://www.flipkart.com//poco-c55-power-black...   \n",
       "4   https://www.flipkart.com//poco-c55-forest-gree...   \n",
       "5   https://www.flipkart.com//motorola-g34-5g-ocea...   \n",
       "6   https://www.flipkart.com//poco-c51-royal-blue-...   \n",
       "7   https://www.flipkart.com//samsung-galaxy-s23-f...   \n",
       "8   https://www.flipkart.com//poco-c51-royal-blue-...   \n",
       "9   https://www.flipkart.com//motorola-g34-5g-ice-...   \n",
       "10  https://www.flipkart.com//samsung-galaxy-s23-f...   \n",
       "11  https://www.flipkart.com//samsung-galaxy-s23-f...   \n",
       "12  https://www.flipkart.com//vivo-t2x-5g-aurora-g...   \n",
       "13  https://www.flipkart.com//motorola-g34-5g-char...   \n",
       "14  https://www.flipkart.com//vivo-t2x-5g-glimmer-...   \n",
       "15  https://www.flipkart.com//vivo-t2x-5g-marine-b...   \n",
       "16  https://www.flipkart.com//samsung-galaxy-s23-f...   \n",
       "17  https://www.flipkart.com//samsung-galaxy-s23-f...   \n",
       "18  https://www.flipkart.com//vivo-t2x-5g-aurora-g...   \n",
       "19  https://www.flipkart.com//vivo-t2x-5g-marine-b...   \n",
       "20  https://www.flipkart.com//vivo-t2x-5g-glimmer-...   \n",
       "21  https://www.flipkart.com//vivo-t2x-5g-glimmer-...   \n",
       "22  https://www.flipkart.com//vivo-t2x-5g-aurora-g...   \n",
       "23  https://www.flipkart.com//vivo-t2x-5g-marine-b...   \n",
       "\n",
       "                                              details  \n",
       "0   8 GB RAM | 128 GB ROM | Expandable Upto 2 TB17...  \n",
       "1   8 GB RAM | 128 GB ROM16.26 cm (6.4 inch) Full ...  \n",
       "2   6 GB RAM | 128 GB ROM | Expandable Upto 1 TB17...  \n",
       "3   6 GB RAM | 128 GB ROM | Expandable Upto 1 TB17...  \n",
       "4   6 GB RAM | 128 GB ROM | Expandable Upto 1 TB17...  \n",
       "5   8 GB RAM | 128 GB ROM16.51 cm (6.5 inch) HD+ D...  \n",
       "6   6 GB RAM | 128 GB ROM | Expandable Upto 1 TB16...  \n",
       "7   8 GB RAM | 256 GB ROM16.26 cm (6.4 inch) Full ...  \n",
       "8   4 GB RAM | 64 GB ROM | Expandable Upto 1 TB16....  \n",
       "9   8 GB RAM | 128 GB ROM16.51 cm (6.5 inch) HD+ D...  \n",
       "10  8 GB RAM | 256 GB ROM16.26 cm (6.4 inch) Full ...  \n",
       "11  8 GB RAM | 128 GB ROM16.26 cm (6.4 inch) Full ...  \n",
       "12  8 GB RAM | 128 GB ROM16.71 cm (6.58 inch) Full...  \n",
       "13  8 GB RAM | 128 GB ROM16.51 cm (6.5 inch) HD+ D...  \n",
       "14  6 GB RAM | 128 GB ROM16.71 cm (6.58 inch) Full...  \n",
       "15  6 GB RAM | 128 GB ROM16.71 cm (6.58 inch) Full...  \n",
       "16  8 GB RAM | 128 GB ROM16.26 cm (6.4 inch) Full ...  \n",
       "17  8 GB RAM | 256 GB ROM16.26 cm (6.4 inch) Full ...  \n",
       "18  6 GB RAM | 128 GB ROM16.71 cm (6.58 inch) Full...  \n",
       "19  8 GB RAM | 128 GB ROM16.71 cm (6.58 inch) Full...  \n",
       "20  8 GB RAM | 128 GB ROM16.71 cm (6.58 inch) Full...  \n",
       "21  4 GB RAM | 128 GB ROM16.71 cm (6.58 inch) Full...  \n",
       "22  4 GB RAM | 128 GB ROM16.71 cm (6.58 inch) Full...  \n",
       "23  4 GB RAM | 128 GB ROM16.71 cm (6.58 inch) Full...  "
      ]
     },
     "execution_count": 179,
     "metadata": {},
     "output_type": "execute_result"
    }
   ],
   "source": [
    "df"
   ]
  },
  {
   "cell_type": "code",
   "execution_count": null,
   "id": "7308cdb6-2449-4dd6-9c6d-547a35aaf8f0",
   "metadata": {},
   "outputs": [],
   "source": []
  }
 ],
 "metadata": {
  "kernelspec": {
   "display_name": "Python (GPU)",
   "language": "python",
   "name": "new_gpu"
  },
  "language_info": {
   "codemirror_mode": {
    "name": "ipython",
    "version": 3
   },
   "file_extension": ".py",
   "mimetype": "text/x-python",
   "name": "python",
   "nbconvert_exporter": "python",
   "pygments_lexer": "ipython3",
   "version": "3.9.18"
  },
  "toc-autonumbering": false,
  "toc-showcode": false
 },
 "nbformat": 4,
 "nbformat_minor": 5
}
