{
 "cells": [
  {
   "cell_type": "code",
   "execution_count": 69,
   "id": "3016800b-275f-4d1c-9097-186497d413e9",
   "metadata": {},
   "outputs": [],
   "source": [
    "from bs4 import BeautifulSoup\n",
    "import pandas as pd\n",
    "import requests"
   ]
  },
  {
   "cell_type": "code",
   "execution_count": 70,
   "id": "b32f7f0f-c030-4d0a-bc2f-a32cb8ea5bc8",
   "metadata": {},
   "outputs": [],
   "source": [
    "url = 'https://www.flipkart.com/mobiles/smartphones~type/pr?sid=tyy%2C4io'\n",
    "#HEADERS = ({'User-Agent':'', 'Accept-Language': 'en-US, en;q=0.5'})\n",
    "response = requests.get(url)\n"
   ]
  },
  {
   "cell_type": "code",
   "execution_count": 71,
   "id": "347cca5b-7bb8-4bea-a848-cbc8886f9146",
   "metadata": {},
   "outputs": [
    {
     "name": "stdout",
     "output_type": "stream",
     "text": [
      "200\n"
     ]
    }
   ],
   "source": [
    "print(response.status_code)"
   ]
  },
  {
   "cell_type": "code",
   "execution_count": 72,
   "id": "a453e825-e56d-49be-9670-3232d3b71a13",
   "metadata": {},
   "outputs": [],
   "source": [
    "soup = BeautifulSoup(response.content, 'html.parser')"
   ]
  },
  {
   "cell_type": "code",
   "execution_count": 73,
   "id": "2fddb603-b366-4794-8213-3035e500dffd",
   "metadata": {},
   "outputs": [],
   "source": [
    "mobile_name = []\n",
    "price = []\n",
    "product_Star = []\n",
    "product_rating = []\n",
    "links = []\n",
    "sliced_links = []\n",
    "full_url = []\n",
    "full_urls = []"
   ]
  },
  {
   "cell_type": "code",
   "execution_count": 74,
   "id": "53de343f-865c-4754-9831-f0ed7db92a40",
   "metadata": {},
   "outputs": [],
   "source": [
    "for tag in soup.find_all('div', attrs={'class':\"_4rR01T\"}):\n",
    "    mobile_name.append(tag.text.strip())\n",
    "    "
   ]
  },
  {
   "cell_type": "code",
   "execution_count": 75,
   "id": "a084bb0e-acdb-4614-b733-1270a11e12ee",
   "metadata": {},
   "outputs": [
    {
     "data": {
      "text/plain": [
       "24"
      ]
     },
     "execution_count": 75,
     "metadata": {},
     "output_type": "execute_result"
    }
   ],
   "source": [
    "len(mobile_name)"
   ]
  },
  {
   "cell_type": "code",
   "execution_count": 76,
   "id": "dbdd86a3-52be-4c60-b292-f7b564c00b13",
   "metadata": {},
   "outputs": [],
   "source": [
    "for tag in soup.find_all('div', attrs={'class':\"_30jeq3 _1_WHN1\"}):\n",
    "    price.append(tag.text.strip())"
   ]
  },
  {
   "cell_type": "code",
   "execution_count": 77,
   "id": "78c519f1-0159-4b41-ad79-0ca147850c39",
   "metadata": {},
   "outputs": [
    {
     "data": {
      "text/plain": [
       "24"
      ]
     },
     "execution_count": 77,
     "metadata": {},
     "output_type": "execute_result"
    }
   ],
   "source": [
    "len(price)"
   ]
  },
  {
   "cell_type": "code",
   "execution_count": 78,
   "id": "cdd1e5f6-2884-4c81-bfca-20898adc4caf",
   "metadata": {},
   "outputs": [],
   "source": [
    "for tag in soup.find_all('div', attrs={'class':\"_3LWZlK\"}):\n",
    "    product_Star.append(tag.text.strip())"
   ]
  },
  {
   "cell_type": "code",
   "execution_count": 79,
   "id": "645178e3-30ed-4772-8828-374cb1204e2c",
   "metadata": {},
   "outputs": [
    {
     "data": {
      "text/plain": [
       "38"
      ]
     },
     "execution_count": 79,
     "metadata": {},
     "output_type": "execute_result"
    }
   ],
   "source": [
    "len(product_Star)"
   ]
  },
  {
   "cell_type": "code",
   "execution_count": null,
   "id": "9909a2c7-2cb4-47ec-be3a-772a9bd24c78",
   "metadata": {},
   "outputs": [],
   "source": []
  },
  {
   "cell_type": "code",
   "execution_count": 80,
   "id": "48915491-0957-441a-a3ff-88144874ca44",
   "metadata": {},
   "outputs": [],
   "source": [
    "for tag in soup.find_all('span', attrs={'class':\"_2_R_DZ\"}):\n",
    "    product_rating.append(tag.text.strip())"
   ]
  },
  {
   "cell_type": "code",
   "execution_count": 81,
   "id": "f681ee74-6105-4a52-bbc2-842a21e6bd38",
   "metadata": {},
   "outputs": [
    {
     "data": {
      "text/plain": [
       "23"
      ]
     },
     "execution_count": 81,
     "metadata": {},
     "output_type": "execute_result"
    }
   ],
   "source": [
    "len(product_rating)"
   ]
  },
  {
   "cell_type": "code",
   "execution_count": 82,
   "id": "3f57c134-c252-4225-8143-d6b36fd79a7d",
   "metadata": {},
   "outputs": [
    {
     "data": {
      "text/plain": [
       "'for tag in soup.find_all(\\'a\\', attrs={\\'class\\':\\'_1fQZEK\\' ,\\'href\\' : True}):\\n    links.append(tag[\\'href\\'])\\n    for i in links:\\n        i = i[:i.find(\"?\")]\\n        sliced_links.append(i)\\n        \\n        for j in sliced_links:\\n            full_url = \\'https://www.flipkart.com/\\' +  j\\n            full_urls.append(full_url)'"
      ]
     },
     "execution_count": 82,
     "metadata": {},
     "output_type": "execute_result"
    }
   ],
   "source": [
    "'''for tag in soup.find_all('a', attrs={'class':'_1fQZEK' ,'href' : True}):\n",
    "    links.append(tag['href'])\n",
    "    for i in links:\n",
    "        i = i[:i.find(\"?\")]\n",
    "        sliced_links.append(i)\n",
    "        \n",
    "        for j in sliced_links:\n",
    "            full_url = 'https://www.flipkart.com/' +  j\n",
    "            full_urls.append(full_url)'''\n",
    "    \n",
    "        \n",
    "        \n",
    "   "
   ]
  },
  {
   "cell_type": "code",
   "execution_count": 83,
   "id": "859e287c-4486-4ef3-a9da-3991a06ec227",
   "metadata": {},
   "outputs": [],
   "source": [
    "\n",
    "\n",
    "# Find all anchor tags with class '_1fQZEK' and 'href' attribute\n",
    "for tag in soup.find_all('a', attrs={'class': '_1fQZEK', 'href': True}):\n",
    "    href = tag['href']\n",
    "    # Append the original link to the 'links' list\n",
    "    links.append(href)\n",
    "    # Remove query parameters from the link and append to 'sliced_links'\n",
    "    sliced_link = href.split('?')[0]\n",
    "    sliced_links.append(sliced_link)\n",
    "\n",
    "# Prepend 'https://www.flipkart.com/' to each link in 'sliced_links'\n",
    "for sliced_link in sliced_links:\n",
    "    full_url = 'https://www.flipkart.com/' + sliced_link\n",
    "    full_urls.append(full_url)"
   ]
  },
  {
   "cell_type": "code",
   "execution_count": 84,
   "id": "159686c6-1202-4f89-8873-38d99d0f62a9",
   "metadata": {},
   "outputs": [
    {
     "data": {
      "text/plain": [
       "24"
      ]
     },
     "execution_count": 84,
     "metadata": {},
     "output_type": "execute_result"
    }
   ],
   "source": [
    "len(full_urls)"
   ]
  },
  {
   "cell_type": "code",
   "execution_count": 85,
   "id": "73b57d99-7ac7-4264-afc4-bc8f74bdba76",
   "metadata": {},
   "outputs": [
    {
     "data": {
      "text/plain": [
       "\"# Initialize lists to store links and final URLs\\nlinks = []\\nfull_urls = []\\n\\n# Find all anchor tags with class '_1fQZEK' and 'href' attribute\\nfor tag in soup.find_all('a', class_='_1fQZEK', href=True):\\n    href = tag['href']\\n    # Remove query parameters from the link and prepend 'https://www.flipkart.com/'\\n    full_url = 'https://www.flipkart.com/' + href.split('?')[0]\\n    # Append the full URL to the list\\n    full_urls.append(full_url)\\n\\n# Print or use the final URLs as needed\\nprint(full_urls)\""
      ]
     },
     "execution_count": 85,
     "metadata": {},
     "output_type": "execute_result"
    }
   ],
   "source": [
    "'''# Initialize lists to store links and final URLs\n",
    "links = []\n",
    "full_urls = []\n",
    "\n",
    "# Find all anchor tags with class '_1fQZEK' and 'href' attribute\n",
    "for tag in soup.find_all('a', class_='_1fQZEK', href=True):\n",
    "    href = tag['href']\n",
    "    # Remove query parameters from the link and prepend 'https://www.flipkart.com/'\n",
    "    full_url = 'https://www.flipkart.com/' + href.split('?')[0]\n",
    "    # Append the full URL to the list\n",
    "    full_urls.append(full_url)\n",
    "\n",
    "# Print or use the final URLs as needed\n",
    "print(full_urls)'''"
   ]
  },
  {
   "cell_type": "code",
   "execution_count": 96,
   "id": "4c2942fc-bd2b-4c25-8688-709ccc0a57c7",
   "metadata": {},
   "outputs": [],
   "source": [
    "data = {\n",
    "    'mobile_name' : mobile_name,\n",
    "    'price' : price,\n",
    "    #'product_Star' : product_Star,\n",
    "    #'product_rating' : product_rating,\n",
    "    'full_urls' : full_urls\n",
    "}"
   ]
  },
  {
   "cell_type": "code",
   "execution_count": 97,
   "id": "edb58c3c-7a97-49c6-bc18-149a624bc996",
   "metadata": {},
   "outputs": [],
   "source": [
    "df = pd.DataFrame(data)"
   ]
  },
  {
   "cell_type": "code",
   "execution_count": 98,
   "id": "8c084919-7b15-434b-b451-caaabfb4c8fc",
   "metadata": {},
   "outputs": [],
   "source": [
    "df.to_csv('flipkart')"
   ]
  },
  {
   "cell_type": "code",
   "execution_count": 99,
   "id": "4f96812e-d5c0-45ce-bbd8-9e6ec7697245",
   "metadata": {},
   "outputs": [
    {
     "data": {
      "text/html": [
       "<div>\n",
       "<style scoped>\n",
       "    .dataframe tbody tr th:only-of-type {\n",
       "        vertical-align: middle;\n",
       "    }\n",
       "\n",
       "    .dataframe tbody tr th {\n",
       "        vertical-align: top;\n",
       "    }\n",
       "\n",
       "    .dataframe thead th {\n",
       "        text-align: right;\n",
       "    }\n",
       "</style>\n",
       "<table border=\"1\" class=\"dataframe\">\n",
       "  <thead>\n",
       "    <tr style=\"text-align: right;\">\n",
       "      <th></th>\n",
       "      <th>mobile_name</th>\n",
       "      <th>price</th>\n",
       "      <th>full_urls</th>\n",
       "    </tr>\n",
       "  </thead>\n",
       "  <tbody>\n",
       "    <tr>\n",
       "      <th>0</th>\n",
       "      <td>OPPO F25 Pro 5G (Lava Red, 128 GB)</td>\n",
       "      <td>₹23,999</td>\n",
       "      <td>https://www.flipkart.com//oppo-f25-pro-5g-lava...</td>\n",
       "    </tr>\n",
       "    <tr>\n",
       "      <th>1</th>\n",
       "      <td>Google Pixel 8 (Hazel, 128 GB)</td>\n",
       "      <td>₹75,999</td>\n",
       "      <td>https://www.flipkart.com//google-pixel-8-hazel...</td>\n",
       "    </tr>\n",
       "    <tr>\n",
       "      <th>2</th>\n",
       "      <td>POCO C55 (Power Black, 128 GB)</td>\n",
       "      <td>₹6,499</td>\n",
       "      <td>https://www.flipkart.com//poco-c55-power-black...</td>\n",
       "    </tr>\n",
       "    <tr>\n",
       "      <th>3</th>\n",
       "      <td>POCO C55 (Forest Green, 128 GB)</td>\n",
       "      <td>₹6,499</td>\n",
       "      <td>https://www.flipkart.com//poco-c55-forest-gree...</td>\n",
       "    </tr>\n",
       "    <tr>\n",
       "      <th>4</th>\n",
       "      <td>Motorola G34 5G (Ice Blue, 128 GB)</td>\n",
       "      <td>₹11,999</td>\n",
       "      <td>https://www.flipkart.com//motorola-g34-5g-ice-...</td>\n",
       "    </tr>\n",
       "    <tr>\n",
       "      <th>5</th>\n",
       "      <td>vivo T2x 5G (Aurora Gold, 128 GB)</td>\n",
       "      <td>₹14,999</td>\n",
       "      <td>https://www.flipkart.com//vivo-t2x-5g-aurora-g...</td>\n",
       "    </tr>\n",
       "    <tr>\n",
       "      <th>6</th>\n",
       "      <td>vivo T2x 5G (Marine Blue, 128 GB)</td>\n",
       "      <td>₹14,999</td>\n",
       "      <td>https://www.flipkart.com//vivo-t2x-5g-marine-b...</td>\n",
       "    </tr>\n",
       "    <tr>\n",
       "      <th>7</th>\n",
       "      <td>Google Pixel 7 (Snow, 128 GB)</td>\n",
       "      <td>₹46,999</td>\n",
       "      <td>https://www.flipkart.com//google-pixel-7-snow-...</td>\n",
       "    </tr>\n",
       "    <tr>\n",
       "      <th>8</th>\n",
       "      <td>vivo T2x 5G (Marine Blue, 128 GB)</td>\n",
       "      <td>₹12,999</td>\n",
       "      <td>https://www.flipkart.com//vivo-t2x-5g-marine-b...</td>\n",
       "    </tr>\n",
       "    <tr>\n",
       "      <th>9</th>\n",
       "      <td>vivo T2x 5G (Aurora Gold, 128 GB)</td>\n",
       "      <td>₹12,999</td>\n",
       "      <td>https://www.flipkart.com//vivo-t2x-5g-aurora-g...</td>\n",
       "    </tr>\n",
       "    <tr>\n",
       "      <th>10</th>\n",
       "      <td>vivo T2x 5G (Glimmer Black, 128 GB)</td>\n",
       "      <td>₹12,999</td>\n",
       "      <td>https://www.flipkart.com//vivo-t2x-5g-glimmer-...</td>\n",
       "    </tr>\n",
       "    <tr>\n",
       "      <th>11</th>\n",
       "      <td>vivo T2x 5G (Glimmer Black, 128 GB)</td>\n",
       "      <td>₹11,999</td>\n",
       "      <td>https://www.flipkart.com//vivo-t2x-5g-glimmer-...</td>\n",
       "    </tr>\n",
       "    <tr>\n",
       "      <th>12</th>\n",
       "      <td>vivo T2x 5G (Glimmer Black, 128 GB)</td>\n",
       "      <td>₹14,999</td>\n",
       "      <td>https://www.flipkart.com//vivo-t2x-5g-glimmer-...</td>\n",
       "    </tr>\n",
       "    <tr>\n",
       "      <th>13</th>\n",
       "      <td>vivo T2x 5G (Aurora Gold, 128 GB)</td>\n",
       "      <td>₹11,999</td>\n",
       "      <td>https://www.flipkart.com//vivo-t2x-5g-aurora-g...</td>\n",
       "    </tr>\n",
       "    <tr>\n",
       "      <th>14</th>\n",
       "      <td>vivo T2x 5G (Marine Blue, 128 GB)</td>\n",
       "      <td>₹11,999</td>\n",
       "      <td>https://www.flipkart.com//vivo-t2x-5g-marine-b...</td>\n",
       "    </tr>\n",
       "    <tr>\n",
       "      <th>15</th>\n",
       "      <td>Apple iPhone 14 (Starlight, 128 GB)</td>\n",
       "      <td>₹58,999</td>\n",
       "      <td>https://www.flipkart.com//apple-iphone-14-star...</td>\n",
       "    </tr>\n",
       "    <tr>\n",
       "      <th>16</th>\n",
       "      <td>POCO C51 (Royal Blue, 64 GB)</td>\n",
       "      <td>₹5,499</td>\n",
       "      <td>https://www.flipkart.com//poco-c51-royal-blue-...</td>\n",
       "    </tr>\n",
       "    <tr>\n",
       "      <th>17</th>\n",
       "      <td>POCO C51 (Royal Blue, 128 GB)</td>\n",
       "      <td>₹5,999</td>\n",
       "      <td>https://www.flipkart.com//poco-c51-royal-blue-...</td>\n",
       "    </tr>\n",
       "    <tr>\n",
       "      <th>18</th>\n",
       "      <td>vivo T2x 5G (Black Gladiator, 128 GB)</td>\n",
       "      <td>₹14,999</td>\n",
       "      <td>https://www.flipkart.com//vivo-t2x-5g-black-gl...</td>\n",
       "    </tr>\n",
       "    <tr>\n",
       "      <th>19</th>\n",
       "      <td>vivo T2x 5G (Black Gladiator, 128 GB)</td>\n",
       "      <td>₹12,999</td>\n",
       "      <td>https://www.flipkart.com//vivo-t2x-5g-black-gl...</td>\n",
       "    </tr>\n",
       "    <tr>\n",
       "      <th>20</th>\n",
       "      <td>vivo T2x 5G (Sunstone Orange, 128 GB)</td>\n",
       "      <td>₹12,999</td>\n",
       "      <td>https://www.flipkart.com//vivo-t2x-5g-sunstone...</td>\n",
       "    </tr>\n",
       "    <tr>\n",
       "      <th>21</th>\n",
       "      <td>Apple iPhone 14 (Purple, 128 GB)</td>\n",
       "      <td>₹58,999</td>\n",
       "      <td>https://www.flipkart.com//apple-iphone-14-purp...</td>\n",
       "    </tr>\n",
       "    <tr>\n",
       "      <th>22</th>\n",
       "      <td>Motorola G34 5G (Ocean Green, 128 GB)</td>\n",
       "      <td>₹11,999</td>\n",
       "      <td>https://www.flipkart.com//motorola-g34-5g-ocea...</td>\n",
       "    </tr>\n",
       "    <tr>\n",
       "      <th>23</th>\n",
       "      <td>POCO C51 (Power Black, 64 GB)</td>\n",
       "      <td>₹5,499</td>\n",
       "      <td>https://www.flipkart.com//poco-c51-power-black...</td>\n",
       "    </tr>\n",
       "  </tbody>\n",
       "</table>\n",
       "</div>"
      ],
      "text/plain": [
       "                              mobile_name    price  \\\n",
       "0      OPPO F25 Pro 5G (Lava Red, 128 GB)  ₹23,999   \n",
       "1          Google Pixel 8 (Hazel, 128 GB)  ₹75,999   \n",
       "2          POCO C55 (Power Black, 128 GB)   ₹6,499   \n",
       "3         POCO C55 (Forest Green, 128 GB)   ₹6,499   \n",
       "4      Motorola G34 5G (Ice Blue, 128 GB)  ₹11,999   \n",
       "5       vivo T2x 5G (Aurora Gold, 128 GB)  ₹14,999   \n",
       "6       vivo T2x 5G (Marine Blue, 128 GB)  ₹14,999   \n",
       "7           Google Pixel 7 (Snow, 128 GB)  ₹46,999   \n",
       "8       vivo T2x 5G (Marine Blue, 128 GB)  ₹12,999   \n",
       "9       vivo T2x 5G (Aurora Gold, 128 GB)  ₹12,999   \n",
       "10    vivo T2x 5G (Glimmer Black, 128 GB)  ₹12,999   \n",
       "11    vivo T2x 5G (Glimmer Black, 128 GB)  ₹11,999   \n",
       "12    vivo T2x 5G (Glimmer Black, 128 GB)  ₹14,999   \n",
       "13      vivo T2x 5G (Aurora Gold, 128 GB)  ₹11,999   \n",
       "14      vivo T2x 5G (Marine Blue, 128 GB)  ₹11,999   \n",
       "15    Apple iPhone 14 (Starlight, 128 GB)  ₹58,999   \n",
       "16           POCO C51 (Royal Blue, 64 GB)   ₹5,499   \n",
       "17          POCO C51 (Royal Blue, 128 GB)   ₹5,999   \n",
       "18  vivo T2x 5G (Black Gladiator, 128 GB)  ₹14,999   \n",
       "19  vivo T2x 5G (Black Gladiator, 128 GB)  ₹12,999   \n",
       "20  vivo T2x 5G (Sunstone Orange, 128 GB)  ₹12,999   \n",
       "21       Apple iPhone 14 (Purple, 128 GB)  ₹58,999   \n",
       "22  Motorola G34 5G (Ocean Green, 128 GB)  ₹11,999   \n",
       "23          POCO C51 (Power Black, 64 GB)   ₹5,499   \n",
       "\n",
       "                                            full_urls  \n",
       "0   https://www.flipkart.com//oppo-f25-pro-5g-lava...  \n",
       "1   https://www.flipkart.com//google-pixel-8-hazel...  \n",
       "2   https://www.flipkart.com//poco-c55-power-black...  \n",
       "3   https://www.flipkart.com//poco-c55-forest-gree...  \n",
       "4   https://www.flipkart.com//motorola-g34-5g-ice-...  \n",
       "5   https://www.flipkart.com//vivo-t2x-5g-aurora-g...  \n",
       "6   https://www.flipkart.com//vivo-t2x-5g-marine-b...  \n",
       "7   https://www.flipkart.com//google-pixel-7-snow-...  \n",
       "8   https://www.flipkart.com//vivo-t2x-5g-marine-b...  \n",
       "9   https://www.flipkart.com//vivo-t2x-5g-aurora-g...  \n",
       "10  https://www.flipkart.com//vivo-t2x-5g-glimmer-...  \n",
       "11  https://www.flipkart.com//vivo-t2x-5g-glimmer-...  \n",
       "12  https://www.flipkart.com//vivo-t2x-5g-glimmer-...  \n",
       "13  https://www.flipkart.com//vivo-t2x-5g-aurora-g...  \n",
       "14  https://www.flipkart.com//vivo-t2x-5g-marine-b...  \n",
       "15  https://www.flipkart.com//apple-iphone-14-star...  \n",
       "16  https://www.flipkart.com//poco-c51-royal-blue-...  \n",
       "17  https://www.flipkart.com//poco-c51-royal-blue-...  \n",
       "18  https://www.flipkart.com//vivo-t2x-5g-black-gl...  \n",
       "19  https://www.flipkart.com//vivo-t2x-5g-black-gl...  \n",
       "20  https://www.flipkart.com//vivo-t2x-5g-sunstone...  \n",
       "21  https://www.flipkart.com//apple-iphone-14-purp...  \n",
       "22  https://www.flipkart.com//motorola-g34-5g-ocea...  \n",
       "23  https://www.flipkart.com//poco-c51-power-black...  "
      ]
     },
     "execution_count": 99,
     "metadata": {},
     "output_type": "execute_result"
    }
   ],
   "source": [
    "df"
   ]
  },
  {
   "cell_type": "code",
   "execution_count": null,
   "id": "7308cdb6-2449-4dd6-9c6d-547a35aaf8f0",
   "metadata": {},
   "outputs": [],
   "source": []
  }
 ],
 "metadata": {
  "kernelspec": {
   "display_name": "Python (GPU)",
   "language": "python",
   "name": "new_gpu"
  },
  "language_info": {
   "codemirror_mode": {
    "name": "ipython",
    "version": 3
   },
   "file_extension": ".py",
   "mimetype": "text/x-python",
   "name": "python",
   "nbconvert_exporter": "python",
   "pygments_lexer": "ipython3",
   "version": "3.9.18"
  },
  "toc-autonumbering": false,
  "toc-showcode": false
 },
 "nbformat": 4,
 "nbformat_minor": 5
}
