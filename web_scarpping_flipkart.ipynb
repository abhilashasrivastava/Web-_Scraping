{
 "cells": [
  {
   "cell_type": "code",
   "execution_count": 38,
   "id": "3016800b-275f-4d1c-9097-186497d413e9",
   "metadata": {},
   "outputs": [],
   "source": [
    "from bs4 import BeautifulSoup\n",
    "import pandas as pd\n",
    "import requests"
   ]
  },
  {
   "cell_type": "code",
   "execution_count": 40,
   "id": "b32f7f0f-c030-4d0a-bc2f-a32cb8ea5bc8",
   "metadata": {},
   "outputs": [
    {
     "data": {
      "text/plain": [
       "\"url = 'https://www.flipkart.com/mobiles/smartphones~type/pr?sid=tyy%2C4io'\\n#HEADERS = ({'User-Agent':'', 'Accept-Language': 'en-US, en;q=0.5'})\\nresponse = requests.get(url)\""
      ]
     },
     "execution_count": 40,
     "metadata": {},
     "output_type": "execute_result"
    }
   ],
   "source": [
    "'''url = 'https://www.flipkart.com/mobiles/smartphones~type/pr?sid=tyy%2C4io'\n",
    "#HEADERS = ({'User-Agent':'', 'Accept-Language': 'en-US, en;q=0.5'})\n",
    "response = requests.get(url)'''\n"
   ]
  },
  {
   "cell_type": "code",
   "execution_count": 3,
   "id": "c5e87ae0-4f21-44c8-bada-20a9a2fc93d0",
   "metadata": {},
   "outputs": [
    {
     "ename": "SyntaxError",
     "evalue": "unexpected EOF while parsing (1471511823.py, line 1)",
     "output_type": "error",
     "traceback": [
      "\u001b[1;36m  Cell \u001b[1;32mIn[3], line 1\u001b[1;36m\u001b[0m\n\u001b[1;33m    def scrape(\u001b[0m\n\u001b[1;37m               ^\u001b[0m\n\u001b[1;31mSyntaxError\u001b[0m\u001b[1;31m:\u001b[0m unexpected EOF while parsing\n"
     ]
    }
   ],
   "source": [
    "def scrape("
   ]
  },
  {
   "cell_type": "code",
   "execution_count": 7,
   "id": "347cca5b-7bb8-4bea-a848-cbc8886f9146",
   "metadata": {},
   "outputs": [
    {
     "name": "stdout",
     "output_type": "stream",
     "text": [
      "200\n"
     ]
    }
   ],
   "source": [
    "print(response.status_code)"
   ]
  },
  {
   "cell_type": "code",
   "execution_count": 41,
   "id": "a453e825-e56d-49be-9670-3232d3b71a13",
   "metadata": {},
   "outputs": [
    {
     "data": {
      "text/plain": [
       "\"soup = BeautifulSoup(response.content, 'html.parser')\""
      ]
     },
     "execution_count": 41,
     "metadata": {},
     "output_type": "execute_result"
    }
   ],
   "source": [
    "'''soup = BeautifulSoup(response.content, 'html.parser')'''"
   ]
  },
  {
   "cell_type": "code",
   "execution_count": 42,
   "id": "2fddb603-b366-4794-8213-3035e500dffd",
   "metadata": {},
   "outputs": [
    {
     "data": {
      "text/plain": [
       "'mobile_name = []\\nprice = []\\nproduct_Star = []\\nproduct_rating = []\\nlinks = []\\nsliced_links = []\\nfull_url = []\\nfull_urls = []'"
      ]
     },
     "execution_count": 42,
     "metadata": {},
     "output_type": "execute_result"
    }
   ],
   "source": [
    "'''mobile_name = []\n",
    "price = []\n",
    "product_Star = []\n",
    "product_rating = []\n",
    "links = []\n",
    "sliced_links = []\n",
    "full_url = []\n",
    "full_urls = []'''"
   ]
  },
  {
   "cell_type": "code",
   "execution_count": 43,
   "id": "53de343f-865c-4754-9831-f0ed7db92a40",
   "metadata": {},
   "outputs": [
    {
     "data": {
      "text/plain": [
       "'for tag in soup.find_all(\\'div\\', attrs={\\'class\\':\"_4rR01T\"}):\\n    mobile_name.append(tag.text.strip())\\n    '"
      ]
     },
     "execution_count": 43,
     "metadata": {},
     "output_type": "execute_result"
    }
   ],
   "source": [
    "#for i in range(len(soup.find_all('div', attrs = {'class' : '_4rR01T'}))):\n",
    "'''for tag in soup.find_all('div', attrs={'class':\"_4rR01T\"}):\n",
    "    mobile_name.append(tag.text.strip())\n",
    "    '''"
   ]
  },
  {
   "cell_type": "code",
   "execution_count": 14,
   "id": "a084bb0e-acdb-4614-b733-1270a11e12ee",
   "metadata": {},
   "outputs": [
    {
     "data": {
      "text/plain": [
       "24"
      ]
     },
     "execution_count": 14,
     "metadata": {},
     "output_type": "execute_result"
    }
   ],
   "source": [
    "len(mobile_name)"
   ]
  },
  {
   "cell_type": "code",
   "execution_count": 44,
   "id": "dbdd86a3-52be-4c60-b292-f7b564c00b13",
   "metadata": {},
   "outputs": [
    {
     "data": {
      "text/plain": [
       "'\\nfor tag in soup.find_all(\\'div\\', attrs={\\'class\\':\"_30jeq3 _1_WHN1\"}):\\n    price.append(tag.text.strip())'"
      ]
     },
     "execution_count": 44,
     "metadata": {},
     "output_type": "execute_result"
    }
   ],
   "source": [
    "'''\n",
    "for tag in soup.find_all('div', attrs={'class':\"_30jeq3 _1_WHN1\"}):\n",
    "    price.append(tag.text.strip())'''"
   ]
  },
  {
   "cell_type": "code",
   "execution_count": 16,
   "id": "78c519f1-0159-4b41-ad79-0ca147850c39",
   "metadata": {},
   "outputs": [
    {
     "data": {
      "text/plain": [
       "24"
      ]
     },
     "execution_count": 16,
     "metadata": {},
     "output_type": "execute_result"
    }
   ],
   "source": [
    "len(price)"
   ]
  },
  {
   "cell_type": "code",
   "execution_count": 45,
   "id": "cdd1e5f6-2884-4c81-bfca-20898adc4caf",
   "metadata": {},
   "outputs": [
    {
     "data": {
      "text/plain": [
       "'#for i in range(len(soup.find_all(\\'div\\', attrs = {\\'class\\' : \\'_3LWZlK\\'}))):\\nfor tag in soup.find_all(\\'div\\', attrs={\\'class\\':\"_3LWZlK\"}):\\n    product_Star.append(tag.text.strip())'"
      ]
     },
     "execution_count": 45,
     "metadata": {},
     "output_type": "execute_result"
    }
   ],
   "source": [
    "'''#for i in range(len(soup.find_all('div', attrs = {'class' : '_3LWZlK'}))):\n",
    "for tag in soup.find_all('div', attrs={'class':\"_3LWZlK\"}):\n",
    "    product_Star.append(tag.text.strip())'''"
   ]
  },
  {
   "cell_type": "code",
   "execution_count": 18,
   "id": "645178e3-30ed-4772-8828-374cb1204e2c",
   "metadata": {},
   "outputs": [
    {
     "data": {
      "text/plain": [
       "39"
      ]
     },
     "execution_count": 18,
     "metadata": {},
     "output_type": "execute_result"
    }
   ],
   "source": [
    "len(product_Star)"
   ]
  },
  {
   "cell_type": "code",
   "execution_count": null,
   "id": "9909a2c7-2cb4-47ec-be3a-772a9bd24c78",
   "metadata": {},
   "outputs": [],
   "source": []
  },
  {
   "cell_type": "code",
   "execution_count": 46,
   "id": "48915491-0957-441a-a3ff-88144874ca44",
   "metadata": {},
   "outputs": [
    {
     "data": {
      "text/plain": [
       "'for tag in soup.find_all(\\'span\\', attrs={\\'class\\':\"_2_R_DZ\"}):\\n    product_rating.append(tag.text.strip())'"
      ]
     },
     "execution_count": 46,
     "metadata": {},
     "output_type": "execute_result"
    }
   ],
   "source": [
    "'''for tag in soup.find_all('span', attrs={'class':\"_2_R_DZ\"}):\n",
    "    product_rating.append(tag.text.strip())'''"
   ]
  },
  {
   "cell_type": "code",
   "execution_count": 20,
   "id": "f681ee74-6105-4a52-bbc2-842a21e6bd38",
   "metadata": {},
   "outputs": [
    {
     "data": {
      "text/plain": [
       "24"
      ]
     },
     "execution_count": 20,
     "metadata": {},
     "output_type": "execute_result"
    }
   ],
   "source": [
    "len(product_rating)"
   ]
  },
  {
   "cell_type": "code",
   "execution_count": 21,
   "id": "3f57c134-c252-4225-8143-d6b36fd79a7d",
   "metadata": {},
   "outputs": [
    {
     "data": {
      "text/plain": [
       "'for tag in soup.find_all(\\'a\\', attrs={\\'class\\':\\'_1fQZEK\\' ,\\'href\\' : True}):\\n    links.append(tag[\\'href\\'])\\n    for i in links:\\n        i = i[:i.find(\"?\")]\\n        sliced_links.append(i)\\n        \\n        for j in sliced_links:\\n            full_url = \\'https://www.flipkart.com/\\' +  j\\n            full_urls.append(full_url)'"
      ]
     },
     "execution_count": 21,
     "metadata": {},
     "output_type": "execute_result"
    }
   ],
   "source": [
    "'''for tag in soup.find_all('a', attrs={'class':'_1fQZEK' ,'href' : True}):\n",
    "    links.append(tag['href'])\n",
    "    for i in links:\n",
    "        i = i[:i.find(\"?\")]\n",
    "        sliced_links.append(i)\n",
    "        \n",
    "        for j in sliced_links:\n",
    "            full_url = 'https://www.flipkart.com/' +  j\n",
    "            full_urls.append(full_url)'''\n",
    "    \n",
    "        \n",
    "        \n",
    "   "
   ]
  },
  {
   "cell_type": "code",
   "execution_count": 22,
   "id": "859e287c-4486-4ef3-a9da-3991a06ec227",
   "metadata": {},
   "outputs": [],
   "source": [
    "\n",
    "\n",
    "# Find all anchor tags with class '_1fQZEK' and 'href' attribute\n",
    "for tag in soup.find_all('a', attrs={'class': '_1fQZEK', 'href': True}):\n",
    "    href = tag['href']\n",
    "    # Append the original link to the 'links' list\n",
    "    links.append(href)\n",
    "    # Remove query parameters from the link and append to 'sliced_links'\n",
    "    sliced_link = href.split('?')[0]\n",
    "    sliced_links.append(sliced_link)\n",
    "\n",
    "# Prepend 'https://www.flipkart.com/' to each link in 'sliced_links'\n",
    "for sliced_link in sliced_links:\n",
    "    full_url = 'https://www.flipkart.com/' + sliced_link\n",
    "    full_urls.append(full_url)"
   ]
  },
  {
   "cell_type": "code",
   "execution_count": 23,
   "id": "159686c6-1202-4f89-8873-38d99d0f62a9",
   "metadata": {},
   "outputs": [
    {
     "data": {
      "text/plain": [
       "24"
      ]
     },
     "execution_count": 23,
     "metadata": {},
     "output_type": "execute_result"
    }
   ],
   "source": [
    "len(full_urls)"
   ]
  },
  {
   "cell_type": "code",
   "execution_count": 24,
   "id": "73b57d99-7ac7-4264-afc4-bc8f74bdba76",
   "metadata": {},
   "outputs": [
    {
     "data": {
      "text/plain": [
       "\"# Initialize lists to store links and final URLs\\nlinks = []\\nfull_urls = []\\n\\n# Find all anchor tags with class '_1fQZEK' and 'href' attribute\\nfor tag in soup.find_all('a', class_='_1fQZEK', href=True):\\n    href = tag['href']\\n    # Remove query parameters from the link and prepend 'https://www.flipkart.com/'\\n    full_url = 'https://www.flipkart.com/' + href.split('?')[0]\\n    # Append the full URL to the list\\n    full_urls.append(full_url)\\n\\n# Print or use the final URLs as needed\\nprint(full_urls)\""
      ]
     },
     "execution_count": 24,
     "metadata": {},
     "output_type": "execute_result"
    }
   ],
   "source": [
    "'''# Initialize lists to store links and final URLs\n",
    "links = []\n",
    "full_urls = []\n",
    "\n",
    "# Find all anchor tags with class '_1fQZEK' and 'href' attribute\n",
    "for tag in soup.find_all('a', class_='_1fQZEK', href=True):\n",
    "    href = tag['href']\n",
    "    # Remove query parameters from the link and prepend 'https://www.flipkart.com/'\n",
    "    full_url = 'https://www.flipkart.com/' + href.split('?')[0]\n",
    "    # Append the full URL to the list\n",
    "    full_urls.append(full_url)\n",
    "\n",
    "# Print or use the final URLs as needed\n",
    "print(full_urls)'''"
   ]
  },
  {
   "cell_type": "code",
   "execution_count": 25,
   "id": "0b1d0824-e0b0-4c34-b7f7-23c868f21484",
   "metadata": {},
   "outputs": [],
   "source": [
    "off_price_to = []\n",
    "details = []"
   ]
  },
  {
   "cell_type": "code",
   "execution_count": 26,
   "id": "a19cf646-dcee-4c77-a573-626b0220a900",
   "metadata": {},
   "outputs": [],
   "source": [
    "for tag in soup.find_all('div', attrs={'class' : \"_3I9_wc _27UcVY\"}):\n",
    "    off_price_to.append(tag.text.strip())"
   ]
  },
  {
   "cell_type": "code",
   "execution_count": 27,
   "id": "73f89950-81c2-4419-a99a-c698cc0b3494",
   "metadata": {},
   "outputs": [
    {
     "data": {
      "text/plain": [
       "22"
      ]
     },
     "execution_count": 27,
     "metadata": {},
     "output_type": "execute_result"
    }
   ],
   "source": [
    "len(off_price_to)"
   ]
  },
  {
   "cell_type": "code",
   "execution_count": 28,
   "id": "dfc079ff-e25c-499c-bd4d-771e86b6ccb3",
   "metadata": {},
   "outputs": [],
   "source": [
    "product_details = []\n",
    "for i in range(len(soup.find_all('ul', attrs = {'class' : '_1xgFaf'}))):\n",
    "    product_details.append(soup.find_all('ul', attrs = {'class' : '_1xgFaf'})[i].text)"
   ]
  },
  {
   "cell_type": "code",
   "execution_count": 29,
   "id": "4c81eb56-f576-4746-85a6-1f8e643ef518",
   "metadata": {},
   "outputs": [],
   "source": [
    "\n",
    "#original_list = [\"apple\", \"banana\", \"orange\", \"grape\", \"kiwi\"]\n",
    "new = []\n",
    "# Initialize empty lists\n",
    "separated_lists = [[] for _ in range(len(product_details))]\n",
    "\n",
    "# Separate the contents of the original list\n",
    "for i, item in enumerate(product_details):\n",
    "    separated_lists[i].append(item)\n",
    "\n",
    "# Print separated lists\n",
    "for i, separated_list in enumerate(separated_lists):\n",
    "    #print(f\"Product {i + 1}: {separated_list}\")\n",
    "    new.append(separated_list)"
   ]
  },
  {
   "cell_type": "code",
   "execution_count": 47,
   "id": "ee5e612c-e6f8-412d-87c7-80f27a59ada9",
   "metadata": {},
   "outputs": [],
   "source": [
    "common_url='https://www.flipkart.com/mobiles/smartphones~type/pr?sid=tyy%2C4io&page='"
   ]
  },
  {
   "cell_type": "code",
   "execution_count": 31,
   "id": "932e32c6-43ec-4969-82ea-8e066102414b",
   "metadata": {},
   "outputs": [
    {
     "ename": "SyntaxError",
     "evalue": "invalid syntax (2302409895.py, line 2)",
     "output_type": "error",
     "traceback": [
      "\u001b[1;36m  Cell \u001b[1;32mIn[31], line 2\u001b[1;36m\u001b[0m\n\u001b[1;33m    print(f\"Page_no {i}:{requests.get(common_url+ str(i)).status_code}\")b\u001b[0m\n\u001b[1;37m                                                                        ^\u001b[0m\n\u001b[1;31mSyntaxError\u001b[0m\u001b[1;31m:\u001b[0m invalid syntax\n"
     ]
    }
   ],
   "source": [
    "for i in range(1,264):\n",
    "    print(f\"Page_no {i}:{requests.get(common_url+ str(i)).status_code}\")b"
   ]
  },
  {
   "cell_type": "code",
   "execution_count": 52,
   "id": "5f4603bd-2c9d-4a86-8016-3cc327f82133",
   "metadata": {},
   "outputs": [],
   "source": [
    "mobile_name = []\n",
    "price = []\n",
    "product_Star = []\n",
    "product_rating = []\n",
    "links = []\n",
    "sliced_links = []\n",
    "full_url = []\n",
    "full_urls = []"
   ]
  },
  {
   "cell_type": "code",
   "execution_count": 85,
   "id": "c4a88d20-0a1b-42e5-9e73-2b7a61c389f5",
   "metadata": {},
   "outputs": [
    {
     "name": "stdin",
     "output_type": "stream",
     "text": [
      "enter the number of pages to scrape 1\n"
     ]
    },
    {
     "data": {
      "text/plain": [
       "\"links.append(href)\\nfor i in href:\\n    sliced_link = i.split('?')[0]\\n    sliced_links.append(sliced_link)\\n    full_url = 'https://www.flipkart.com/' + sliced_link\\n    full_urls.append(full_url)\""
      ]
     },
     "execution_count": 85,
     "metadata": {},
     "output_type": "execute_result"
    }
   ],
   "source": [
    "# n=int(\"enter the number of pages to scrape\")\n",
    "\n",
    "def scrap(url):\n",
    "    response = requests.get(url)\n",
    "    soup = BeautifulSoup(response.content, 'html.parser')\n",
    "    mobile_names = [tag.text.strip() for tag in soup.find_all('div', attrs={'class': '_4rR01T'})]\n",
    "    prices = [tag.text.strip() for tag in soup.find_all('div', attrs={'class': '_30jeq3 _1_WHN1'})]\n",
    "    product = [tag.text.strip() for tag in soup.find_all('div', attrs={'class':\"_3LWZlK\"})]\n",
    "    rating = [tag.text.strip() for tag in soup.find_all('span', attrs={'class':\"_2_R_DZ\"})]\n",
    "    #href = [tag['href'] for tag in soup.find_all('a', attrs={'class': '_1fQZEK', 'href': True})]\n",
    "    return mobile_names, prices, product, rating#, href\n",
    "\n",
    "n=int(input(\"enter the number of pages to scrape\"))\n",
    "for i in range(1,n+1):\n",
    "    url=common_url+ str(i)\n",
    "    mobile_names, prices, product, rating#, href= scrap(url)\n",
    "mobile_name.append(mobile_names)\n",
    "price.append(prices)\n",
    "product_Star.append(product)\n",
    "product_rating.append(rating)\n",
    "'''links.append(href)\n",
    "for i in href:\n",
    "    sliced_link = i.split('?')[0]\n",
    "    sliced_links.append(sliced_link)\n",
    "    full_url = 'https://www.flipkart.com/' + sliced_link\n",
    "    full_urls.append(full_url)'''\n",
    "\n"
   ]
  },
  {
   "cell_type": "code",
   "execution_count": 86,
   "id": "73f839d4-8bd1-4858-badf-db4b67df5d34",
   "metadata": {},
   "outputs": [
    {
     "data": {
      "text/plain": [
       "(['Google Pixel 8 (Mint, 128 GB)',\n",
       "  'Motorola G34 5G (Ocean Green, 128 GB)',\n",
       "  'POCO C55 (Cool Blue, 128 GB)',\n",
       "  'POCO C55 (Power Black, 128 GB)',\n",
       "  'POCO C55 (Forest Green, 128 GB)',\n",
       "  'POCO C51 (Royal Blue, 64 GB)',\n",
       "  'Motorola G34 5G (Ice Blue, 128 GB)',\n",
       "  'Motorola G34 5G (Charcoal Black, 128 GB)',\n",
       "  'POCO C51 (Royal Blue, 128 GB)',\n",
       "  'vivo T2x 5G (Aurora Gold, 128 GB)',\n",
       "  'vivo T2x 5G (Glimmer Black, 128 GB)',\n",
       "  'vivo T2x 5G (Aurora Gold, 128 GB)',\n",
       "  'vivo T2x 5G (Marine Blue, 128 GB)',\n",
       "  'vivo T2x 5G (Marine Blue, 128 GB)',\n",
       "  'vivo T2x 5G (Glimmer Black, 128 GB)',\n",
       "  'vivo T2x 5G (Glimmer Black, 128 GB)',\n",
       "  'POCO C51 (Power Black, 64 GB)',\n",
       "  'vivo T2x 5G (Aurora Gold, 128 GB)',\n",
       "  'vivo T2x 5G (Marine Blue, 128 GB)',\n",
       "  'POCO C55 (Power Black, 64 GB)',\n",
       "  'OnePlus Nord CE 3 Lite 5G (Pastel Lime, 256 GB)',\n",
       "  'Motorola g54 5G (Mint Green, 128 GB)',\n",
       "  'OnePlus Nord CE 3 Lite 5G (Chromatic Gray, 128 GB)',\n",
       "  'Motorola g54 5G (Midnight Blue, 128 GB)'],\n",
       " ['₹75,999',\n",
       "  '₹11,999',\n",
       "  '₹6,499',\n",
       "  '₹6,499',\n",
       "  '₹6,499',\n",
       "  '₹5,499',\n",
       "  '₹11,999',\n",
       "  '₹11,999',\n",
       "  '₹5,999',\n",
       "  '₹14,999',\n",
       "  '₹12,999',\n",
       "  '₹12,999',\n",
       "  '₹12,999',\n",
       "  '₹14,999',\n",
       "  '₹14,999',\n",
       "  '₹11,999',\n",
       "  '₹5,499',\n",
       "  '₹11,999',\n",
       "  '₹11,999',\n",
       "  '₹5,999',\n",
       "  '₹19,570',\n",
       "  '₹13,999',\n",
       "  '₹18,249',\n",
       "  '₹13,999'],\n",
       " [['4.3',\n",
       "   '4.2',\n",
       "   '4.2',\n",
       "   '4.2',\n",
       "   '4.2',\n",
       "   '4.2',\n",
       "   '4.3',\n",
       "   '4.4',\n",
       "   '4.4',\n",
       "   '4.4',\n",
       "   '4.1',\n",
       "   '4.3',\n",
       "   '4.4',\n",
       "   '4.4',\n",
       "   '4.4',\n",
       "   '4.2',\n",
       "   '4',\n",
       "   '4.3',\n",
       "   '4.3',\n",
       "   '4.4',\n",
       "   '4.4',\n",
       "   '4',\n",
       "   '4.2',\n",
       "   '4.4',\n",
       "   '4.4',\n",
       "   '4',\n",
       "   '5',\n",
       "   '4.3',\n",
       "   '5',\n",
       "   '1',\n",
       "   '4.2',\n",
       "   '4',\n",
       "   '4',\n",
       "   '4.2',\n",
       "   '5',\n",
       "   '5',\n",
       "   '4.1',\n",
       "   '5',\n",
       "   '2'],\n",
       "  ['4.3',\n",
       "   '4.2',\n",
       "   '4.2',\n",
       "   '4.2',\n",
       "   '4.2',\n",
       "   '4.2',\n",
       "   '4.3',\n",
       "   '4.4',\n",
       "   '4.4',\n",
       "   '4.4',\n",
       "   '4.1',\n",
       "   '4.3',\n",
       "   '4.4',\n",
       "   '4.4',\n",
       "   '4.4',\n",
       "   '4.2',\n",
       "   '4',\n",
       "   '4.3',\n",
       "   '4.3',\n",
       "   '4.4',\n",
       "   '4.4',\n",
       "   '4',\n",
       "   '4.2',\n",
       "   '4.4',\n",
       "   '4.4',\n",
       "   '4',\n",
       "   '5',\n",
       "   '4.3',\n",
       "   '5',\n",
       "   '1',\n",
       "   '4.2',\n",
       "   '4',\n",
       "   '4',\n",
       "   '4.2',\n",
       "   '5',\n",
       "   '5',\n",
       "   '4.1',\n",
       "   '5',\n",
       "   '2'],\n",
       "  ['4.3',\n",
       "   '4.2',\n",
       "   '4.2',\n",
       "   '4.2',\n",
       "   '4.2',\n",
       "   '4',\n",
       "   '4.2',\n",
       "   '4.2',\n",
       "   '4.1',\n",
       "   '4.3',\n",
       "   '4.4',\n",
       "   '4.4',\n",
       "   '4.4',\n",
       "   '4.3',\n",
       "   '4.3',\n",
       "   '4.4',\n",
       "   '4',\n",
       "   '4.4',\n",
       "   '4.4',\n",
       "   '4.2',\n",
       "   '4.4',\n",
       "   '4.2',\n",
       "   '4.4',\n",
       "   '4.4',\n",
       "   '4.2',\n",
       "   '3',\n",
       "   '5',\n",
       "   '4.2',\n",
       "   '4',\n",
       "   '4',\n",
       "   '4.2',\n",
       "   '5',\n",
       "   '5',\n",
       "   '4.3',\n",
       "   '5',\n",
       "   '1',\n",
       "   '4',\n",
       "   '4',\n",
       "   '5'],\n",
       "  ['4.3',\n",
       "   '4.2',\n",
       "   '4.2',\n",
       "   '4.2',\n",
       "   '4.2',\n",
       "   '4.2',\n",
       "   '4.3',\n",
       "   '4.4',\n",
       "   '4.4',\n",
       "   '4.4',\n",
       "   '4.1',\n",
       "   '4.3',\n",
       "   '4.4',\n",
       "   '4.4',\n",
       "   '4.4',\n",
       "   '4.2',\n",
       "   '4',\n",
       "   '4.3',\n",
       "   '4.3',\n",
       "   '4.4',\n",
       "   '4.4',\n",
       "   '4',\n",
       "   '4.2',\n",
       "   '4.4',\n",
       "   '4.4',\n",
       "   '4',\n",
       "   '5',\n",
       "   '4.3',\n",
       "   '5',\n",
       "   '1',\n",
       "   '4.2',\n",
       "   '4',\n",
       "   '4',\n",
       "   '4.2',\n",
       "   '5',\n",
       "   '5',\n",
       "   '4.1',\n",
       "   '5',\n",
       "   '2'],\n",
       "  ['4.3',\n",
       "   '4.2',\n",
       "   '4.2',\n",
       "   '4.2',\n",
       "   '4.2',\n",
       "   '4.2',\n",
       "   '4.3',\n",
       "   '4.4',\n",
       "   '4.4',\n",
       "   '4.4',\n",
       "   '4.1',\n",
       "   '4.3',\n",
       "   '4.4',\n",
       "   '4.4',\n",
       "   '4.2',\n",
       "   '4',\n",
       "   '4.3',\n",
       "   '4.4',\n",
       "   '4.3',\n",
       "   '4.4',\n",
       "   '4.4',\n",
       "   '4',\n",
       "   '4.2',\n",
       "   '4.4',\n",
       "   '4.4',\n",
       "   '4',\n",
       "   '5',\n",
       "   '4.3',\n",
       "   '4',\n",
       "   '1',\n",
       "   '4.2',\n",
       "   '4',\n",
       "   '4',\n",
       "   '4.2',\n",
       "   '4',\n",
       "   '5',\n",
       "   '4.1',\n",
       "   '5',\n",
       "   '2'],\n",
       "  ['4.3',\n",
       "   '4.2',\n",
       "   '4.2',\n",
       "   '4.2',\n",
       "   '4.2',\n",
       "   '4',\n",
       "   '4.2',\n",
       "   '4.2',\n",
       "   '4.1',\n",
       "   '4.3',\n",
       "   '4.4',\n",
       "   '4.4',\n",
       "   '4.4',\n",
       "   '4.3',\n",
       "   '4.3',\n",
       "   '4.4',\n",
       "   '4',\n",
       "   '4.4',\n",
       "   '4.4',\n",
       "   '4.2',\n",
       "   '4.4',\n",
       "   '4.2',\n",
       "   '4.4',\n",
       "   '4.4',\n",
       "   '4.2',\n",
       "   '3',\n",
       "   '5',\n",
       "   '4.2',\n",
       "   '4',\n",
       "   '4',\n",
       "   '4.2',\n",
       "   '5',\n",
       "   '5',\n",
       "   '4.3',\n",
       "   '5',\n",
       "   '1',\n",
       "   '4',\n",
       "   '4',\n",
       "   '5'],\n",
       "  ['4.3',\n",
       "   '4.2',\n",
       "   '4.2',\n",
       "   '4.2',\n",
       "   '4.2',\n",
       "   '4',\n",
       "   '4.2',\n",
       "   '4.2',\n",
       "   '4.1',\n",
       "   '4.3',\n",
       "   '4.4',\n",
       "   '4.4',\n",
       "   '4.4',\n",
       "   '4.3',\n",
       "   '4.3',\n",
       "   '4.4',\n",
       "   '4',\n",
       "   '4.4',\n",
       "   '4.4',\n",
       "   '4.2',\n",
       "   '4.4',\n",
       "   '4.2',\n",
       "   '4.4',\n",
       "   '4.4',\n",
       "   '4.2',\n",
       "   '3',\n",
       "   '5',\n",
       "   '4.2',\n",
       "   '4',\n",
       "   '4',\n",
       "   '4.2',\n",
       "   '5',\n",
       "   '5',\n",
       "   '4.3',\n",
       "   '5',\n",
       "   '1',\n",
       "   '4',\n",
       "   '4',\n",
       "   '5'],\n",
       "  ['4.3',\n",
       "   '4.2',\n",
       "   '4.2',\n",
       "   '4.2',\n",
       "   '4.2',\n",
       "   '4',\n",
       "   '4.2',\n",
       "   '4.2',\n",
       "   '4.1',\n",
       "   '4.3',\n",
       "   '4.4',\n",
       "   '4.4',\n",
       "   '4.4',\n",
       "   '4.3',\n",
       "   '4.3',\n",
       "   '4.4',\n",
       "   '4',\n",
       "   '4.4',\n",
       "   '4.4',\n",
       "   '4.2',\n",
       "   '4.4',\n",
       "   '4.2',\n",
       "   '4.4',\n",
       "   '4.4',\n",
       "   '4.2',\n",
       "   '3',\n",
       "   '5',\n",
       "   '4.2',\n",
       "   '4',\n",
       "   '4',\n",
       "   '4.2',\n",
       "   '5',\n",
       "   '5',\n",
       "   '4.3',\n",
       "   '5',\n",
       "   '1',\n",
       "   '4',\n",
       "   '4',\n",
       "   '5'],\n",
       "  ['4.3',\n",
       "   '4.2',\n",
       "   '4.2',\n",
       "   '4.2',\n",
       "   '4.2',\n",
       "   '4',\n",
       "   '4.2',\n",
       "   '4.2',\n",
       "   '4.1',\n",
       "   '4.3',\n",
       "   '4.4',\n",
       "   '4.4',\n",
       "   '4.4',\n",
       "   '4.3',\n",
       "   '4.3',\n",
       "   '4.4',\n",
       "   '4',\n",
       "   '4.4',\n",
       "   '4.4',\n",
       "   '4.2',\n",
       "   '4.4',\n",
       "   '4.2',\n",
       "   '4.4',\n",
       "   '4.4',\n",
       "   '4.2',\n",
       "   '3',\n",
       "   '5',\n",
       "   '4.2',\n",
       "   '4',\n",
       "   '4',\n",
       "   '4.2',\n",
       "   '5',\n",
       "   '5',\n",
       "   '4.3',\n",
       "   '5',\n",
       "   '1',\n",
       "   '4',\n",
       "   '4',\n",
       "   '5'],\n",
       "  ['4.3',\n",
       "   '4.2',\n",
       "   '4.2',\n",
       "   '4.2',\n",
       "   '4.2',\n",
       "   '4.2',\n",
       "   '4.3',\n",
       "   '4.4',\n",
       "   '4.4',\n",
       "   '4.4',\n",
       "   '4.1',\n",
       "   '4.3',\n",
       "   '4.4',\n",
       "   '4.4',\n",
       "   '4.2',\n",
       "   '4',\n",
       "   '4.3',\n",
       "   '4.4',\n",
       "   '4.3',\n",
       "   '4.4',\n",
       "   '4.4',\n",
       "   '4',\n",
       "   '4.2',\n",
       "   '4.4',\n",
       "   '4.4',\n",
       "   '4',\n",
       "   '5',\n",
       "   '4.3',\n",
       "   '5',\n",
       "   '1',\n",
       "   '4.2',\n",
       "   '4',\n",
       "   '4',\n",
       "   '4.2',\n",
       "   '5',\n",
       "   '5',\n",
       "   '4.1',\n",
       "   '5',\n",
       "   '2'],\n",
       "  ['4.3',\n",
       "   '4.2',\n",
       "   '4.2',\n",
       "   '4.2',\n",
       "   '4.3',\n",
       "   '4.4',\n",
       "   '4.4',\n",
       "   '4.4',\n",
       "   '4.1',\n",
       "   '4.3',\n",
       "   '4.4',\n",
       "   '4.4',\n",
       "   '4.2',\n",
       "   '4',\n",
       "   '4.3',\n",
       "   '4.4',\n",
       "   '4.3',\n",
       "   '4.4',\n",
       "   '4.4',\n",
       "   '4',\n",
       "   '4.4',\n",
       "   '4.6',\n",
       "   '4.4',\n",
       "   '4.2',\n",
       "   '4.3',\n",
       "   '5',\n",
       "   '1',\n",
       "   '4.2',\n",
       "   '3',\n",
       "   '5',\n",
       "   '4.4',\n",
       "   '4',\n",
       "   '5',\n",
       "   '4.2',\n",
       "   '5',\n",
       "   '5',\n",
       "   '4.1',\n",
       "   '5',\n",
       "   '2'],\n",
       "  ['4.3',\n",
       "   '4.2',\n",
       "   '4.2',\n",
       "   '4.2',\n",
       "   '4.2',\n",
       "   '4',\n",
       "   '4.2',\n",
       "   '4.2',\n",
       "   '4.1',\n",
       "   '4.3',\n",
       "   '4.4',\n",
       "   '4.4',\n",
       "   '4.4',\n",
       "   '4.3',\n",
       "   '4.3',\n",
       "   '4.4',\n",
       "   '4',\n",
       "   '4.4',\n",
       "   '4.4',\n",
       "   '4.2',\n",
       "   '4.4',\n",
       "   '4.2',\n",
       "   '4.4',\n",
       "   '4.2',\n",
       "   '4.2',\n",
       "   '3',\n",
       "   '5',\n",
       "   '4.2',\n",
       "   '4',\n",
       "   '4',\n",
       "   '4.2',\n",
       "   '5',\n",
       "   '5',\n",
       "   '4.3',\n",
       "   '5',\n",
       "   '1',\n",
       "   '4',\n",
       "   '4',\n",
       "   '5'],\n",
       "  ['4.3',\n",
       "   '4.2',\n",
       "   '4.2',\n",
       "   '4.2',\n",
       "   '4.2',\n",
       "   '4',\n",
       "   '4.2',\n",
       "   '4.2',\n",
       "   '4.1',\n",
       "   '4.3',\n",
       "   '4.4',\n",
       "   '4.4',\n",
       "   '4.4',\n",
       "   '4.3',\n",
       "   '4.3',\n",
       "   '4.4',\n",
       "   '4',\n",
       "   '4.4',\n",
       "   '4.4',\n",
       "   '4.2',\n",
       "   '4.4',\n",
       "   '4.2',\n",
       "   '4.4',\n",
       "   '4.2',\n",
       "   '4.2',\n",
       "   '3',\n",
       "   '5',\n",
       "   '4.2',\n",
       "   '4',\n",
       "   '4',\n",
       "   '4.2',\n",
       "   '5',\n",
       "   '5',\n",
       "   '4.3',\n",
       "   '5',\n",
       "   '1',\n",
       "   '4',\n",
       "   '4',\n",
       "   '5']],\n",
       " [['1,443 Ratings\\xa0&\\xa0238 Reviews',\n",
       "   '1,18,928 Ratings\\xa0&\\xa07,227 Reviews',\n",
       "   '1,18,928 Ratings\\xa0&\\xa07,227 Reviews',\n",
       "   '1,18,928 Ratings\\xa0&\\xa07,227 Reviews',\n",
       "   '12,195 Ratings\\xa0&\\xa01,529 Reviews',\n",
       "   '12,195 Ratings\\xa0&\\xa01,529 Reviews',\n",
       "   '64,423 Ratings\\xa0&\\xa03,882 Reviews',\n",
       "   '3,59,142 Ratings\\xa0&\\xa020,226 Reviews',\n",
       "   '3,59,142 Ratings\\xa0&\\xa020,226 Reviews',\n",
       "   '3,59,142 Ratings\\xa0&\\xa020,226 Reviews',\n",
       "   '7,274 Ratings\\xa0&\\xa0394 Reviews',\n",
       "   '64,423 Ratings\\xa0&\\xa03,882 Reviews',\n",
       "   '1,60,414 Ratings\\xa0&\\xa08,570 Reviews',\n",
       "   '1,60,414 Ratings\\xa0&\\xa08,570 Reviews',\n",
       "   '1,60,414 Ratings\\xa0&\\xa08,570 Reviews',\n",
       "   '12,195 Ratings\\xa0&\\xa01,529 Reviews',\n",
       "   '1,89,311 Ratings\\xa0&\\xa010,611 Reviews',\n",
       "   '64,423 Ratings\\xa0&\\xa03,882 Reviews',\n",
       "   '64,423 Ratings\\xa0&\\xa03,882 Reviews',\n",
       "   '3,59,142 Ratings\\xa0&\\xa020,226 Reviews',\n",
       "   '3,59,142 Ratings\\xa0&\\xa020,226 Reviews',\n",
       "   '1,89,311 Ratings\\xa0&\\xa010,611 Reviews',\n",
       "   '1,09,482 Ratings\\xa0&\\xa06,807 Reviews',\n",
       "   '1,20,126 Ratings\\xa0&\\xa07,685 Reviews'],\n",
       "  ['1,443 Ratings\\xa0&\\xa0238 Reviews',\n",
       "   '12,195 Ratings\\xa0&\\xa01,529 Reviews',\n",
       "   '1,18,928 Ratings\\xa0&\\xa07,227 Reviews',\n",
       "   '1,18,928 Ratings\\xa0&\\xa07,227 Reviews',\n",
       "   '1,18,928 Ratings\\xa0&\\xa07,227 Reviews',\n",
       "   '1,89,311 Ratings\\xa0&\\xa010,611 Reviews',\n",
       "   '12,195 Ratings\\xa0&\\xa01,529 Reviews',\n",
       "   '12,195 Ratings\\xa0&\\xa01,529 Reviews',\n",
       "   '7,274 Ratings\\xa0&\\xa0394 Reviews',\n",
       "   '64,423 Ratings\\xa0&\\xa03,882 Reviews',\n",
       "   '3,59,142 Ratings\\xa0&\\xa020,226 Reviews',\n",
       "   '3,59,142 Ratings\\xa0&\\xa020,226 Reviews',\n",
       "   '3,59,142 Ratings\\xa0&\\xa020,226 Reviews',\n",
       "   '64,423 Ratings\\xa0&\\xa03,882 Reviews',\n",
       "   '64,423 Ratings\\xa0&\\xa03,882 Reviews',\n",
       "   '1,60,414 Ratings\\xa0&\\xa08,570 Reviews',\n",
       "   '1,89,311 Ratings\\xa0&\\xa010,611 Reviews',\n",
       "   '1,60,414 Ratings\\xa0&\\xa08,570 Reviews',\n",
       "   '1,60,414 Ratings\\xa0&\\xa08,570 Reviews',\n",
       "   '1,09,482 Ratings\\xa0&\\xa06,807 Reviews',\n",
       "   '58,039 Ratings\\xa0&\\xa04,093 Reviews',\n",
       "   '69,898 Ratings\\xa0&\\xa06,947 Reviews',\n",
       "   '58,039 Ratings\\xa0&\\xa04,093 Reviews',\n",
       "   '58,039 Ratings\\xa0&\\xa04,093 Reviews'],\n",
       "  ['1,443 Ratings\\xa0&\\xa0238 Reviews',\n",
       "   '1,18,928 Ratings\\xa0&\\xa07,227 Reviews',\n",
       "   '1,18,928 Ratings\\xa0&\\xa07,227 Reviews',\n",
       "   '1,18,928 Ratings\\xa0&\\xa07,227 Reviews',\n",
       "   '12,195 Ratings\\xa0&\\xa01,529 Reviews',\n",
       "   '12,195 Ratings\\xa0&\\xa01,529 Reviews',\n",
       "   '64,423 Ratings\\xa0&\\xa03,882 Reviews',\n",
       "   '3,59,142 Ratings\\xa0&\\xa020,226 Reviews',\n",
       "   '3,59,142 Ratings\\xa0&\\xa020,226 Reviews',\n",
       "   '3,59,142 Ratings\\xa0&\\xa020,226 Reviews',\n",
       "   '7,274 Ratings\\xa0&\\xa0394 Reviews',\n",
       "   '64,423 Ratings\\xa0&\\xa03,882 Reviews',\n",
       "   '1,60,414 Ratings\\xa0&\\xa08,570 Reviews',\n",
       "   '1,60,414 Ratings\\xa0&\\xa08,570 Reviews',\n",
       "   '1,60,414 Ratings\\xa0&\\xa08,570 Reviews',\n",
       "   '12,195 Ratings\\xa0&\\xa01,529 Reviews',\n",
       "   '1,89,311 Ratings\\xa0&\\xa010,611 Reviews',\n",
       "   '64,423 Ratings\\xa0&\\xa03,882 Reviews',\n",
       "   '64,423 Ratings\\xa0&\\xa03,882 Reviews',\n",
       "   '3,59,142 Ratings\\xa0&\\xa020,226 Reviews',\n",
       "   '3,59,142 Ratings\\xa0&\\xa020,226 Reviews',\n",
       "   '1,89,311 Ratings\\xa0&\\xa010,611 Reviews',\n",
       "   '1,09,482 Ratings\\xa0&\\xa06,807 Reviews',\n",
       "   '1,20,126 Ratings\\xa0&\\xa07,685 Reviews'],\n",
       "  ['1,443 Ratings\\xa0&\\xa0238 Reviews',\n",
       "   '1,18,928 Ratings\\xa0&\\xa07,227 Reviews',\n",
       "   '1,18,928 Ratings\\xa0&\\xa07,227 Reviews',\n",
       "   '1,18,928 Ratings\\xa0&\\xa07,227 Reviews',\n",
       "   '12,195 Ratings\\xa0&\\xa01,529 Reviews',\n",
       "   '12,195 Ratings\\xa0&\\xa01,529 Reviews',\n",
       "   '64,423 Ratings\\xa0&\\xa03,882 Reviews',\n",
       "   '3,59,142 Ratings\\xa0&\\xa020,226 Reviews',\n",
       "   '3,59,142 Ratings\\xa0&\\xa020,226 Reviews',\n",
       "   '3,59,142 Ratings\\xa0&\\xa020,226 Reviews',\n",
       "   '7,274 Ratings\\xa0&\\xa0394 Reviews',\n",
       "   '64,423 Ratings\\xa0&\\xa03,882 Reviews',\n",
       "   '1,60,414 Ratings\\xa0&\\xa08,570 Reviews',\n",
       "   '1,60,414 Ratings\\xa0&\\xa08,570 Reviews',\n",
       "   '12,195 Ratings\\xa0&\\xa01,529 Reviews',\n",
       "   '1,89,311 Ratings\\xa0&\\xa010,611 Reviews',\n",
       "   '64,423 Ratings\\xa0&\\xa03,882 Reviews',\n",
       "   '1,60,414 Ratings\\xa0&\\xa08,570 Reviews',\n",
       "   '64,423 Ratings\\xa0&\\xa03,882 Reviews',\n",
       "   '3,59,142 Ratings\\xa0&\\xa020,226 Reviews',\n",
       "   '3,59,142 Ratings\\xa0&\\xa020,226 Reviews',\n",
       "   '1,89,311 Ratings\\xa0&\\xa010,611 Reviews',\n",
       "   '1,09,482 Ratings\\xa0&\\xa06,807 Reviews',\n",
       "   '1,20,126 Ratings\\xa0&\\xa07,685 Reviews'],\n",
       "  ['1,443 Ratings\\xa0&\\xa0238 Reviews',\n",
       "   '12,195 Ratings\\xa0&\\xa01,529 Reviews',\n",
       "   '1,18,928 Ratings\\xa0&\\xa07,227 Reviews',\n",
       "   '1,18,928 Ratings\\xa0&\\xa07,227 Reviews',\n",
       "   '1,18,928 Ratings\\xa0&\\xa07,227 Reviews',\n",
       "   '1,89,311 Ratings\\xa0&\\xa010,611 Reviews',\n",
       "   '12,195 Ratings\\xa0&\\xa01,529 Reviews',\n",
       "   '12,195 Ratings\\xa0&\\xa01,529 Reviews',\n",
       "   '7,274 Ratings\\xa0&\\xa0394 Reviews',\n",
       "   '64,423 Ratings\\xa0&\\xa03,882 Reviews',\n",
       "   '3,59,142 Ratings\\xa0&\\xa020,226 Reviews',\n",
       "   '3,59,142 Ratings\\xa0&\\xa020,226 Reviews',\n",
       "   '3,59,142 Ratings\\xa0&\\xa020,226 Reviews',\n",
       "   '64,423 Ratings\\xa0&\\xa03,882 Reviews',\n",
       "   '64,423 Ratings\\xa0&\\xa03,882 Reviews',\n",
       "   '1,60,414 Ratings\\xa0&\\xa08,570 Reviews',\n",
       "   '1,89,311 Ratings\\xa0&\\xa010,611 Reviews',\n",
       "   '1,60,414 Ratings\\xa0&\\xa08,570 Reviews',\n",
       "   '1,60,414 Ratings\\xa0&\\xa08,570 Reviews',\n",
       "   '1,09,482 Ratings\\xa0&\\xa06,807 Reviews',\n",
       "   '58,039 Ratings\\xa0&\\xa04,093 Reviews',\n",
       "   '69,898 Ratings\\xa0&\\xa06,947 Reviews',\n",
       "   '58,039 Ratings\\xa0&\\xa04,093 Reviews',\n",
       "   '58,039 Ratings\\xa0&\\xa04,093 Reviews'],\n",
       "  ['1,443 Ratings\\xa0&\\xa0238 Reviews',\n",
       "   '12,195 Ratings\\xa0&\\xa01,529 Reviews',\n",
       "   '1,18,928 Ratings\\xa0&\\xa07,227 Reviews',\n",
       "   '1,18,928 Ratings\\xa0&\\xa07,227 Reviews',\n",
       "   '1,18,928 Ratings\\xa0&\\xa07,227 Reviews',\n",
       "   '1,89,311 Ratings\\xa0&\\xa010,611 Reviews',\n",
       "   '12,195 Ratings\\xa0&\\xa01,529 Reviews',\n",
       "   '12,195 Ratings\\xa0&\\xa01,529 Reviews',\n",
       "   '7,274 Ratings\\xa0&\\xa0394 Reviews',\n",
       "   '64,423 Ratings\\xa0&\\xa03,882 Reviews',\n",
       "   '3,59,142 Ratings\\xa0&\\xa020,226 Reviews',\n",
       "   '3,59,142 Ratings\\xa0&\\xa020,226 Reviews',\n",
       "   '3,59,142 Ratings\\xa0&\\xa020,226 Reviews',\n",
       "   '64,423 Ratings\\xa0&\\xa03,882 Reviews',\n",
       "   '64,423 Ratings\\xa0&\\xa03,882 Reviews',\n",
       "   '1,60,414 Ratings\\xa0&\\xa08,570 Reviews',\n",
       "   '1,89,311 Ratings\\xa0&\\xa010,611 Reviews',\n",
       "   '1,60,414 Ratings\\xa0&\\xa08,570 Reviews',\n",
       "   '1,60,414 Ratings\\xa0&\\xa08,570 Reviews',\n",
       "   '1,09,482 Ratings\\xa0&\\xa06,807 Reviews',\n",
       "   '58,039 Ratings\\xa0&\\xa04,093 Reviews',\n",
       "   '69,898 Ratings\\xa0&\\xa06,947 Reviews',\n",
       "   '58,039 Ratings\\xa0&\\xa04,093 Reviews',\n",
       "   '58,039 Ratings\\xa0&\\xa04,093 Reviews'],\n",
       "  ['1,443 Ratings\\xa0&\\xa0238 Reviews',\n",
       "   '12,195 Ratings\\xa0&\\xa01,529 Reviews',\n",
       "   '1,18,928 Ratings\\xa0&\\xa07,227 Reviews',\n",
       "   '1,18,928 Ratings\\xa0&\\xa07,227 Reviews',\n",
       "   '1,18,928 Ratings\\xa0&\\xa07,227 Reviews',\n",
       "   '1,89,311 Ratings\\xa0&\\xa010,611 Reviews',\n",
       "   '12,195 Ratings\\xa0&\\xa01,529 Reviews',\n",
       "   '12,195 Ratings\\xa0&\\xa01,529 Reviews',\n",
       "   '7,274 Ratings\\xa0&\\xa0394 Reviews',\n",
       "   '64,423 Ratings\\xa0&\\xa03,882 Reviews',\n",
       "   '3,59,142 Ratings\\xa0&\\xa020,226 Reviews',\n",
       "   '3,59,142 Ratings\\xa0&\\xa020,226 Reviews',\n",
       "   '3,59,142 Ratings\\xa0&\\xa020,226 Reviews',\n",
       "   '64,423 Ratings\\xa0&\\xa03,882 Reviews',\n",
       "   '64,423 Ratings\\xa0&\\xa03,882 Reviews',\n",
       "   '1,60,414 Ratings\\xa0&\\xa08,570 Reviews',\n",
       "   '1,89,311 Ratings\\xa0&\\xa010,611 Reviews',\n",
       "   '1,60,414 Ratings\\xa0&\\xa08,570 Reviews',\n",
       "   '1,60,414 Ratings\\xa0&\\xa08,570 Reviews',\n",
       "   '1,09,482 Ratings\\xa0&\\xa06,807 Reviews',\n",
       "   '58,039 Ratings\\xa0&\\xa04,093 Reviews',\n",
       "   '69,898 Ratings\\xa0&\\xa06,947 Reviews',\n",
       "   '58,039 Ratings\\xa0&\\xa04,093 Reviews',\n",
       "   '58,039 Ratings\\xa0&\\xa04,093 Reviews'],\n",
       "  ['1,443 Ratings\\xa0&\\xa0238 Reviews',\n",
       "   '12,195 Ratings\\xa0&\\xa01,529 Reviews',\n",
       "   '1,18,928 Ratings\\xa0&\\xa07,227 Reviews',\n",
       "   '1,18,928 Ratings\\xa0&\\xa07,227 Reviews',\n",
       "   '1,18,928 Ratings\\xa0&\\xa07,227 Reviews',\n",
       "   '1,89,311 Ratings\\xa0&\\xa010,611 Reviews',\n",
       "   '12,195 Ratings\\xa0&\\xa01,529 Reviews',\n",
       "   '12,195 Ratings\\xa0&\\xa01,529 Reviews',\n",
       "   '7,274 Ratings\\xa0&\\xa0394 Reviews',\n",
       "   '64,423 Ratings\\xa0&\\xa03,882 Reviews',\n",
       "   '3,59,142 Ratings\\xa0&\\xa020,226 Reviews',\n",
       "   '3,59,142 Ratings\\xa0&\\xa020,226 Reviews',\n",
       "   '3,59,142 Ratings\\xa0&\\xa020,226 Reviews',\n",
       "   '64,423 Ratings\\xa0&\\xa03,882 Reviews',\n",
       "   '64,423 Ratings\\xa0&\\xa03,882 Reviews',\n",
       "   '1,60,414 Ratings\\xa0&\\xa08,570 Reviews',\n",
       "   '1,89,311 Ratings\\xa0&\\xa010,611 Reviews',\n",
       "   '1,60,414 Ratings\\xa0&\\xa08,570 Reviews',\n",
       "   '1,60,414 Ratings\\xa0&\\xa08,570 Reviews',\n",
       "   '1,09,482 Ratings\\xa0&\\xa06,807 Reviews',\n",
       "   '58,039 Ratings\\xa0&\\xa04,093 Reviews',\n",
       "   '69,898 Ratings\\xa0&\\xa06,947 Reviews',\n",
       "   '58,039 Ratings\\xa0&\\xa04,093 Reviews',\n",
       "   '58,039 Ratings\\xa0&\\xa04,093 Reviews'],\n",
       "  ['1,443 Ratings\\xa0&\\xa0238 Reviews',\n",
       "   '1,18,928 Ratings\\xa0&\\xa07,227 Reviews',\n",
       "   '1,18,928 Ratings\\xa0&\\xa07,227 Reviews',\n",
       "   '1,18,928 Ratings\\xa0&\\xa07,227 Reviews',\n",
       "   '12,195 Ratings\\xa0&\\xa01,529 Reviews',\n",
       "   '12,195 Ratings\\xa0&\\xa01,529 Reviews',\n",
       "   '64,423 Ratings\\xa0&\\xa03,882 Reviews',\n",
       "   '3,59,142 Ratings\\xa0&\\xa020,226 Reviews',\n",
       "   '3,59,142 Ratings\\xa0&\\xa020,226 Reviews',\n",
       "   '3,59,142 Ratings\\xa0&\\xa020,226 Reviews',\n",
       "   '7,274 Ratings\\xa0&\\xa0394 Reviews',\n",
       "   '64,423 Ratings\\xa0&\\xa03,882 Reviews',\n",
       "   '1,60,414 Ratings\\xa0&\\xa08,570 Reviews',\n",
       "   '1,60,414 Ratings\\xa0&\\xa08,570 Reviews',\n",
       "   '12,195 Ratings\\xa0&\\xa01,529 Reviews',\n",
       "   '1,89,311 Ratings\\xa0&\\xa010,611 Reviews',\n",
       "   '64,423 Ratings\\xa0&\\xa03,882 Reviews',\n",
       "   '1,60,414 Ratings\\xa0&\\xa08,570 Reviews',\n",
       "   '64,423 Ratings\\xa0&\\xa03,882 Reviews',\n",
       "   '3,59,142 Ratings\\xa0&\\xa020,226 Reviews',\n",
       "   '3,59,142 Ratings\\xa0&\\xa020,226 Reviews',\n",
       "   '1,89,311 Ratings\\xa0&\\xa010,611 Reviews',\n",
       "   '1,09,482 Ratings\\xa0&\\xa06,807 Reviews',\n",
       "   '1,20,126 Ratings\\xa0&\\xa07,685 Reviews'],\n",
       "  ['1,443 Ratings\\xa0&\\xa0238 Reviews',\n",
       "   '1,18,928 Ratings\\xa0&\\xa07,227 Reviews',\n",
       "   '1,18,928 Ratings\\xa0&\\xa07,227 Reviews',\n",
       "   '12,195 Ratings\\xa0&\\xa01,529 Reviews',\n",
       "   '64,423 Ratings\\xa0&\\xa03,882 Reviews',\n",
       "   '3,59,142 Ratings\\xa0&\\xa020,226 Reviews',\n",
       "   '3,59,142 Ratings\\xa0&\\xa020,226 Reviews',\n",
       "   '3,59,142 Ratings\\xa0&\\xa020,226 Reviews',\n",
       "   '7,274 Ratings\\xa0&\\xa0394 Reviews',\n",
       "   '64,423 Ratings\\xa0&\\xa03,882 Reviews',\n",
       "   '1,60,414 Ratings\\xa0&\\xa08,570 Reviews',\n",
       "   '1,60,414 Ratings\\xa0&\\xa08,570 Reviews',\n",
       "   '12,195 Ratings\\xa0&\\xa01,529 Reviews',\n",
       "   '1,89,311 Ratings\\xa0&\\xa010,611 Reviews',\n",
       "   '64,423 Ratings\\xa0&\\xa03,882 Reviews',\n",
       "   '1,60,414 Ratings\\xa0&\\xa08,570 Reviews',\n",
       "   '64,423 Ratings\\xa0&\\xa03,882 Reviews',\n",
       "   '3,59,142 Ratings\\xa0&\\xa020,226 Reviews',\n",
       "   '3,59,142 Ratings\\xa0&\\xa020,226 Reviews',\n",
       "   '1,89,311 Ratings\\xa0&\\xa010,611 Reviews',\n",
       "   '1,20,126 Ratings\\xa0&\\xa07,685 Reviews',\n",
       "   '2,80,004 Ratings\\xa0&\\xa011,015 Reviews',\n",
       "   '1,20,126 Ratings\\xa0&\\xa07,685 Reviews',\n",
       "   '69,898 Ratings\\xa0&\\xa06,947 Reviews'],\n",
       "  ['1,443 Ratings\\xa0&\\xa0238 Reviews',\n",
       "   '12,195 Ratings\\xa0&\\xa01,529 Reviews',\n",
       "   '1,18,928 Ratings\\xa0&\\xa07,227 Reviews',\n",
       "   '1,18,928 Ratings\\xa0&\\xa07,227 Reviews',\n",
       "   '1,18,928 Ratings\\xa0&\\xa07,227 Reviews',\n",
       "   '1,89,311 Ratings\\xa0&\\xa010,611 Reviews',\n",
       "   '12,195 Ratings\\xa0&\\xa01,529 Reviews',\n",
       "   '12,195 Ratings\\xa0&\\xa01,529 Reviews',\n",
       "   '7,274 Ratings\\xa0&\\xa0394 Reviews',\n",
       "   '64,423 Ratings\\xa0&\\xa03,882 Reviews',\n",
       "   '3,59,142 Ratings\\xa0&\\xa020,226 Reviews',\n",
       "   '3,59,142 Ratings\\xa0&\\xa020,226 Reviews',\n",
       "   '3,59,142 Ratings\\xa0&\\xa020,226 Reviews',\n",
       "   '64,423 Ratings\\xa0&\\xa03,882 Reviews',\n",
       "   '64,423 Ratings\\xa0&\\xa03,882 Reviews',\n",
       "   '1,60,414 Ratings\\xa0&\\xa08,570 Reviews',\n",
       "   '1,89,311 Ratings\\xa0&\\xa010,611 Reviews',\n",
       "   '1,60,414 Ratings\\xa0&\\xa08,570 Reviews',\n",
       "   '1,60,414 Ratings\\xa0&\\xa08,570 Reviews',\n",
       "   '1,09,482 Ratings\\xa0&\\xa06,807 Reviews',\n",
       "   '58,039 Ratings\\xa0&\\xa04,093 Reviews',\n",
       "   '69,898 Ratings\\xa0&\\xa06,947 Reviews',\n",
       "   '58,039 Ratings\\xa0&\\xa04,093 Reviews',\n",
       "   '69,898 Ratings\\xa0&\\xa06,947 Reviews'],\n",
       "  ['1,443 Ratings\\xa0&\\xa0238 Reviews',\n",
       "   '12,195 Ratings\\xa0&\\xa01,529 Reviews',\n",
       "   '1,18,928 Ratings\\xa0&\\xa07,227 Reviews',\n",
       "   '1,18,928 Ratings\\xa0&\\xa07,227 Reviews',\n",
       "   '1,18,928 Ratings\\xa0&\\xa07,227 Reviews',\n",
       "   '1,89,311 Ratings\\xa0&\\xa010,611 Reviews',\n",
       "   '12,195 Ratings\\xa0&\\xa01,529 Reviews',\n",
       "   '12,195 Ratings\\xa0&\\xa01,529 Reviews',\n",
       "   '7,274 Ratings\\xa0&\\xa0394 Reviews',\n",
       "   '64,423 Ratings\\xa0&\\xa03,882 Reviews',\n",
       "   '3,59,142 Ratings\\xa0&\\xa020,226 Reviews',\n",
       "   '3,59,142 Ratings\\xa0&\\xa020,226 Reviews',\n",
       "   '3,59,142 Ratings\\xa0&\\xa020,226 Reviews',\n",
       "   '64,423 Ratings\\xa0&\\xa03,882 Reviews',\n",
       "   '64,423 Ratings\\xa0&\\xa03,882 Reviews',\n",
       "   '1,60,414 Ratings\\xa0&\\xa08,570 Reviews',\n",
       "   '1,89,311 Ratings\\xa0&\\xa010,611 Reviews',\n",
       "   '1,60,414 Ratings\\xa0&\\xa08,570 Reviews',\n",
       "   '1,60,414 Ratings\\xa0&\\xa08,570 Reviews',\n",
       "   '1,09,482 Ratings\\xa0&\\xa06,807 Reviews',\n",
       "   '58,039 Ratings\\xa0&\\xa04,093 Reviews',\n",
       "   '69,898 Ratings\\xa0&\\xa06,947 Reviews',\n",
       "   '58,039 Ratings\\xa0&\\xa04,093 Reviews',\n",
       "   '69,898 Ratings\\xa0&\\xa06,947 Reviews']])"
      ]
     },
     "execution_count": 86,
     "metadata": {},
     "output_type": "execute_result"
    }
   ],
   "source": [
    "mobile_names, prices, product_Star, product_rating"
   ]
  },
  {
   "cell_type": "code",
   "execution_count": 72,
   "id": "d7112f73-6e01-4841-a9b2-876209c7865d",
   "metadata": {},
   "outputs": [
    {
     "data": {
      "text/plain": [
       "8"
      ]
     },
     "execution_count": 72,
     "metadata": {},
     "output_type": "execute_result"
    }
   ],
   "source": [
    "len(price)"
   ]
  },
  {
   "cell_type": "code",
   "execution_count": 73,
   "id": "d4a16d7b-04c3-40bf-8fe2-b80e9bb0f39f",
   "metadata": {},
   "outputs": [
    {
     "data": {
      "text/plain": [
       "8"
      ]
     },
     "execution_count": 73,
     "metadata": {},
     "output_type": "execute_result"
    }
   ],
   "source": [
    "len(product_Star)"
   ]
  },
  {
   "cell_type": "code",
   "execution_count": 74,
   "id": "f43bb54c-0c53-439f-8288-d16b2b3c2fae",
   "metadata": {},
   "outputs": [
    {
     "data": {
      "text/plain": [
       "7"
      ]
     },
     "execution_count": 74,
     "metadata": {},
     "output_type": "execute_result"
    }
   ],
   "source": [
    "len(product_rating)"
   ]
  },
  {
   "cell_type": "code",
   "execution_count": 75,
   "id": "311b72be-3421-4d1e-9ac7-a3e9e2e4f1a2",
   "metadata": {},
   "outputs": [
    {
     "data": {
      "text/plain": [
       "99"
      ]
     },
     "execution_count": 75,
     "metadata": {},
     "output_type": "execute_result"
    }
   ],
   "source": [
    "len(full_urls)"
   ]
  },
  {
   "cell_type": "code",
   "execution_count": 87,
   "id": "21659f30-42c7-4ecd-8a42-23798636c8e9",
   "metadata": {},
   "outputs": [],
   "source": [
    "data={\n",
    "    'mobile_name' : mobile_name,\n",
    "    'price' : price,\n",
    "    'product_Star' : product_Star,\n",
    "    'product_rating' : product_rating,\n",
    "    'full_urls' : full_urls\n",
    "    \n",
    "}"
   ]
  },
  {
   "cell_type": "code",
   "execution_count": 88,
   "id": "bcd44cd6-235a-44ad-a8f8-2acaa0eec6c9",
   "metadata": {},
   "outputs": [
    {
     "ename": "ValueError",
     "evalue": "All arrays must be of the same length",
     "output_type": "error",
     "traceback": [
      "\u001b[1;31m---------------------------------------------------------------------------\u001b[0m",
      "\u001b[1;31mValueError\u001b[0m                                Traceback (most recent call last)",
      "Cell \u001b[1;32mIn[88], line 1\u001b[0m\n\u001b[1;32m----> 1\u001b[0m df \u001b[38;5;241m=\u001b[39m \u001b[43mpd\u001b[49m\u001b[38;5;241;43m.\u001b[39;49m\u001b[43mDataFrame\u001b[49m\u001b[43m(\u001b[49m\u001b[43mdata\u001b[49m\u001b[43m)\u001b[49m\n",
      "File \u001b[1;32m~\\anaconda3\\lib\\site-packages\\pandas\\core\\frame.py:636\u001b[0m, in \u001b[0;36mDataFrame.__init__\u001b[1;34m(self, data, index, columns, dtype, copy)\u001b[0m\n\u001b[0;32m    630\u001b[0m     mgr \u001b[38;5;241m=\u001b[39m \u001b[38;5;28mself\u001b[39m\u001b[38;5;241m.\u001b[39m_init_mgr(\n\u001b[0;32m    631\u001b[0m         data, axes\u001b[38;5;241m=\u001b[39m{\u001b[38;5;124m\"\u001b[39m\u001b[38;5;124mindex\u001b[39m\u001b[38;5;124m\"\u001b[39m: index, \u001b[38;5;124m\"\u001b[39m\u001b[38;5;124mcolumns\u001b[39m\u001b[38;5;124m\"\u001b[39m: columns}, dtype\u001b[38;5;241m=\u001b[39mdtype, copy\u001b[38;5;241m=\u001b[39mcopy\n\u001b[0;32m    632\u001b[0m     )\n\u001b[0;32m    634\u001b[0m \u001b[38;5;28;01melif\u001b[39;00m \u001b[38;5;28misinstance\u001b[39m(data, \u001b[38;5;28mdict\u001b[39m):\n\u001b[0;32m    635\u001b[0m     \u001b[38;5;66;03m# GH#38939 de facto copy defaults to False only in non-dict cases\u001b[39;00m\n\u001b[1;32m--> 636\u001b[0m     mgr \u001b[38;5;241m=\u001b[39m \u001b[43mdict_to_mgr\u001b[49m\u001b[43m(\u001b[49m\u001b[43mdata\u001b[49m\u001b[43m,\u001b[49m\u001b[43m \u001b[49m\u001b[43mindex\u001b[49m\u001b[43m,\u001b[49m\u001b[43m \u001b[49m\u001b[43mcolumns\u001b[49m\u001b[43m,\u001b[49m\u001b[43m \u001b[49m\u001b[43mdtype\u001b[49m\u001b[38;5;241;43m=\u001b[39;49m\u001b[43mdtype\u001b[49m\u001b[43m,\u001b[49m\u001b[43m \u001b[49m\u001b[43mcopy\u001b[49m\u001b[38;5;241;43m=\u001b[39;49m\u001b[43mcopy\u001b[49m\u001b[43m,\u001b[49m\u001b[43m \u001b[49m\u001b[43mtyp\u001b[49m\u001b[38;5;241;43m=\u001b[39;49m\u001b[43mmanager\u001b[49m\u001b[43m)\u001b[49m\n\u001b[0;32m    637\u001b[0m \u001b[38;5;28;01melif\u001b[39;00m \u001b[38;5;28misinstance\u001b[39m(data, ma\u001b[38;5;241m.\u001b[39mMaskedArray):\n\u001b[0;32m    638\u001b[0m     \u001b[38;5;28;01mimport\u001b[39;00m \u001b[38;5;21;01mnumpy\u001b[39;00m\u001b[38;5;21;01m.\u001b[39;00m\u001b[38;5;21;01mma\u001b[39;00m\u001b[38;5;21;01m.\u001b[39;00m\u001b[38;5;21;01mmrecords\u001b[39;00m \u001b[38;5;28;01mas\u001b[39;00m \u001b[38;5;21;01mmrecords\u001b[39;00m\n",
      "File \u001b[1;32m~\\anaconda3\\lib\\site-packages\\pandas\\core\\internals\\construction.py:502\u001b[0m, in \u001b[0;36mdict_to_mgr\u001b[1;34m(data, index, columns, dtype, typ, copy)\u001b[0m\n\u001b[0;32m    494\u001b[0m     arrays \u001b[38;5;241m=\u001b[39m [\n\u001b[0;32m    495\u001b[0m         x\n\u001b[0;32m    496\u001b[0m         \u001b[38;5;28;01mif\u001b[39;00m \u001b[38;5;129;01mnot\u001b[39;00m \u001b[38;5;28mhasattr\u001b[39m(x, \u001b[38;5;124m\"\u001b[39m\u001b[38;5;124mdtype\u001b[39m\u001b[38;5;124m\"\u001b[39m) \u001b[38;5;129;01mor\u001b[39;00m \u001b[38;5;129;01mnot\u001b[39;00m \u001b[38;5;28misinstance\u001b[39m(x\u001b[38;5;241m.\u001b[39mdtype, ExtensionDtype)\n\u001b[0;32m    497\u001b[0m         \u001b[38;5;28;01melse\u001b[39;00m x\u001b[38;5;241m.\u001b[39mcopy()\n\u001b[0;32m    498\u001b[0m         \u001b[38;5;28;01mfor\u001b[39;00m x \u001b[38;5;129;01min\u001b[39;00m arrays\n\u001b[0;32m    499\u001b[0m     ]\n\u001b[0;32m    500\u001b[0m     \u001b[38;5;66;03m# TODO: can we get rid of the dt64tz special case above?\u001b[39;00m\n\u001b[1;32m--> 502\u001b[0m \u001b[38;5;28;01mreturn\u001b[39;00m \u001b[43marrays_to_mgr\u001b[49m\u001b[43m(\u001b[49m\u001b[43marrays\u001b[49m\u001b[43m,\u001b[49m\u001b[43m \u001b[49m\u001b[43mcolumns\u001b[49m\u001b[43m,\u001b[49m\u001b[43m \u001b[49m\u001b[43mindex\u001b[49m\u001b[43m,\u001b[49m\u001b[43m \u001b[49m\u001b[43mdtype\u001b[49m\u001b[38;5;241;43m=\u001b[39;49m\u001b[43mdtype\u001b[49m\u001b[43m,\u001b[49m\u001b[43m \u001b[49m\u001b[43mtyp\u001b[49m\u001b[38;5;241;43m=\u001b[39;49m\u001b[43mtyp\u001b[49m\u001b[43m,\u001b[49m\u001b[43m \u001b[49m\u001b[43mconsolidate\u001b[49m\u001b[38;5;241;43m=\u001b[39;49m\u001b[43mcopy\u001b[49m\u001b[43m)\u001b[49m\n",
      "File \u001b[1;32m~\\anaconda3\\lib\\site-packages\\pandas\\core\\internals\\construction.py:120\u001b[0m, in \u001b[0;36marrays_to_mgr\u001b[1;34m(arrays, columns, index, dtype, verify_integrity, typ, consolidate)\u001b[0m\n\u001b[0;32m    117\u001b[0m \u001b[38;5;28;01mif\u001b[39;00m verify_integrity:\n\u001b[0;32m    118\u001b[0m     \u001b[38;5;66;03m# figure out the index, if necessary\u001b[39;00m\n\u001b[0;32m    119\u001b[0m     \u001b[38;5;28;01mif\u001b[39;00m index \u001b[38;5;129;01mis\u001b[39;00m \u001b[38;5;28;01mNone\u001b[39;00m:\n\u001b[1;32m--> 120\u001b[0m         index \u001b[38;5;241m=\u001b[39m \u001b[43m_extract_index\u001b[49m\u001b[43m(\u001b[49m\u001b[43marrays\u001b[49m\u001b[43m)\u001b[49m\n\u001b[0;32m    121\u001b[0m     \u001b[38;5;28;01melse\u001b[39;00m:\n\u001b[0;32m    122\u001b[0m         index \u001b[38;5;241m=\u001b[39m ensure_index(index)\n",
      "File \u001b[1;32m~\\anaconda3\\lib\\site-packages\\pandas\\core\\internals\\construction.py:674\u001b[0m, in \u001b[0;36m_extract_index\u001b[1;34m(data)\u001b[0m\n\u001b[0;32m    672\u001b[0m lengths \u001b[38;5;241m=\u001b[39m \u001b[38;5;28mlist\u001b[39m(\u001b[38;5;28mset\u001b[39m(raw_lengths))\n\u001b[0;32m    673\u001b[0m \u001b[38;5;28;01mif\u001b[39;00m \u001b[38;5;28mlen\u001b[39m(lengths) \u001b[38;5;241m>\u001b[39m \u001b[38;5;241m1\u001b[39m:\n\u001b[1;32m--> 674\u001b[0m     \u001b[38;5;28;01mraise\u001b[39;00m \u001b[38;5;167;01mValueError\u001b[39;00m(\u001b[38;5;124m\"\u001b[39m\u001b[38;5;124mAll arrays must be of the same length\u001b[39m\u001b[38;5;124m\"\u001b[39m)\n\u001b[0;32m    676\u001b[0m \u001b[38;5;28;01mif\u001b[39;00m have_dicts:\n\u001b[0;32m    677\u001b[0m     \u001b[38;5;28;01mraise\u001b[39;00m \u001b[38;5;167;01mValueError\u001b[39;00m(\n\u001b[0;32m    678\u001b[0m         \u001b[38;5;124m\"\u001b[39m\u001b[38;5;124mMixing dicts with non-Series may lead to ambiguous ordering.\u001b[39m\u001b[38;5;124m\"\u001b[39m\n\u001b[0;32m    679\u001b[0m     )\n",
      "\u001b[1;31mValueError\u001b[0m: All arrays must be of the same length"
     ]
    }
   ],
   "source": [
    "df = pd.DataFrame(data)"
   ]
  },
  {
   "cell_type": "code",
   "execution_count": null,
   "id": "20cb8fcb-ba92-41ad-b3b5-8f4dc51b1378",
   "metadata": {},
   "outputs": [],
   "source": []
  },
  {
   "cell_type": "code",
   "execution_count": null,
   "id": "e2485f11-bbca-43b2-9530-353ef57be6c1",
   "metadata": {},
   "outputs": [],
   "source": []
  },
  {
   "cell_type": "code",
   "execution_count": null,
   "id": "1fa08918-9bc1-4345-a473-6253f491c5f4",
   "metadata": {},
   "outputs": [],
   "source": []
  },
  {
   "cell_type": "code",
   "execution_count": null,
   "id": "9e34a3d2-ba0a-442e-93b6-196a6c45f946",
   "metadata": {},
   "outputs": [],
   "source": []
  },
  {
   "cell_type": "code",
   "execution_count": null,
   "id": "f13849a7-a9b5-4dd8-b7e3-d04d92562521",
   "metadata": {},
   "outputs": [],
   "source": []
  },
  {
   "cell_type": "code",
   "execution_count": null,
   "id": "82a134e2-c46d-4c20-992e-f643bba37788",
   "metadata": {},
   "outputs": [],
   "source": []
  },
  {
   "cell_type": "code",
   "execution_count": 58,
   "id": "03405813-e2a2-4f26-b7b3-4d05ce6b1719",
   "metadata": {},
   "outputs": [
    {
     "data": {
      "text/plain": [
       "[]"
      ]
     },
     "execution_count": 58,
     "metadata": {},
     "output_type": "execute_result"
    }
   ],
   "source": [
    "mobile_name"
   ]
  },
  {
   "cell_type": "code",
   "execution_count": 1,
   "id": "cbfe0ab8-1dde-4c67-b2fd-e8b10066dc9b",
   "metadata": {},
   "outputs": [
    {
     "ename": "NameError",
     "evalue": "name 'requests' is not defined",
     "output_type": "error",
     "traceback": [
      "\u001b[1;31m---------------------------------------------------------------------------\u001b[0m",
      "\u001b[1;31mNameError\u001b[0m                                 Traceback (most recent call last)",
      "\u001b[1;32m<ipython-input-1-1f54dcdbc2f4>\u001b[0m in \u001b[0;36m<module>\u001b[1;34m\u001b[0m\n\u001b[0;32m      1\u001b[0m \u001b[1;32mfor\u001b[0m \u001b[0mi\u001b[0m \u001b[1;32min\u001b[0m \u001b[0mrange\u001b[0m\u001b[1;33m(\u001b[0m\u001b[1;36m1\u001b[0m\u001b[1;33m,\u001b[0m\u001b[1;36m264\u001b[0m\u001b[1;33m)\u001b[0m\u001b[1;33m:\u001b[0m\u001b[1;33m\u001b[0m\u001b[1;33m\u001b[0m\u001b[0m\n\u001b[1;32m----> 2\u001b[1;33m     \u001b[0mprint\u001b[0m\u001b[1;33m(\u001b[0m\u001b[0mrequests\u001b[0m\u001b[1;33m.\u001b[0m\u001b[0mget\u001b[0m\u001b[1;33m(\u001b[0m\u001b[0mcommon_url\u001b[0m\u001b[1;33m+\u001b[0m \u001b[0mstr\u001b[0m\u001b[1;33m(\u001b[0m\u001b[0mi\u001b[0m\u001b[1;33m)\u001b[0m\u001b[1;33m)\u001b[0m\u001b[1;33m.\u001b[0m\u001b[0mstatus_code\u001b[0m\u001b[1;33m)\u001b[0m\u001b[1;33m\u001b[0m\u001b[1;33m\u001b[0m\u001b[0m\n\u001b[0m",
      "\u001b[1;31mNameError\u001b[0m: name 'requests' is not defined"
     ]
    }
   ],
   "source": [
    "for i in range(1,264):\n",
    "    print(requests.get(common_url+ str(i)).status_code)"
   ]
  },
  {
   "cell_type": "code",
   "execution_count": null,
   "id": "d2d1e312-e8e3-4952-a45a-0affa592196c",
   "metadata": {},
   "outputs": [],
   "source": []
  },
  {
   "cell_type": "code",
   "execution_count": 24,
   "id": "4c2942fc-bd2b-4c25-8688-709ccc0a57c7",
   "metadata": {},
   "outputs": [],
   "source": [
    "data = {\n",
    "    'mobile_name' : mobile_name,\n",
    "    'price' : price,\n",
    "    #'off_price' : off_price_to,\n",
    "    #'product_Star' : product_Star,\n",
    "    #'product_rating' : product_rating,\n",
    "    'full_urls' : full_urls,\n",
    "    'details' : product_details\n",
    "}"
   ]
  },
  {
   "cell_type": "code",
   "execution_count": 25,
   "id": "edb58c3c-7a97-49c6-bc18-149a624bc996",
   "metadata": {},
   "outputs": [],
   "source": [
    "df = pd.DataFrame(data)"
   ]
  },
  {
   "cell_type": "code",
   "execution_count": 26,
   "id": "8c084919-7b15-434b-b451-caaabfb4c8fc",
   "metadata": {},
   "outputs": [],
   "source": [
    "df.to_csv('flipkart')"
   ]
  },
  {
   "cell_type": "code",
   "execution_count": 27,
   "id": "4f96812e-d5c0-45ce-bbd8-9e6ec7697245",
   "metadata": {},
   "outputs": [
    {
     "data": {
      "text/html": [
       "<div>\n",
       "<style scoped>\n",
       "    .dataframe tbody tr th:only-of-type {\n",
       "        vertical-align: middle;\n",
       "    }\n",
       "\n",
       "    .dataframe tbody tr th {\n",
       "        vertical-align: top;\n",
       "    }\n",
       "\n",
       "    .dataframe thead th {\n",
       "        text-align: right;\n",
       "    }\n",
       "</style>\n",
       "<table border=\"1\" class=\"dataframe\">\n",
       "  <thead>\n",
       "    <tr style=\"text-align: right;\">\n",
       "      <th></th>\n",
       "      <th>mobile_name</th>\n",
       "      <th>price</th>\n",
       "      <th>full_urls</th>\n",
       "      <th>details</th>\n",
       "    </tr>\n",
       "  </thead>\n",
       "  <tbody>\n",
       "    <tr>\n",
       "      <th>0</th>\n",
       "      <td>OPPO F25 Pro 5G (Lava Red, 128 GB)</td>\n",
       "      <td>₹23,999</td>\n",
       "      <td>https://www.flipkart.com//oppo-f25-pro-5g-lava...</td>\n",
       "      <td>8 GB RAM | 128 GB ROM | Expandable Upto 2 TB17...</td>\n",
       "    </tr>\n",
       "    <tr>\n",
       "      <th>1</th>\n",
       "      <td>POCO C55 (Cool Blue, 128 GB)</td>\n",
       "      <td>₹6,499</td>\n",
       "      <td>https://www.flipkart.com//poco-c55-cool-blue-1...</td>\n",
       "      <td>6 GB RAM | 128 GB ROM | Expandable Upto 1 TB17...</td>\n",
       "    </tr>\n",
       "    <tr>\n",
       "      <th>2</th>\n",
       "      <td>POCO C55 (Power Black, 128 GB)</td>\n",
       "      <td>₹6,499</td>\n",
       "      <td>https://www.flipkart.com//poco-c55-power-black...</td>\n",
       "      <td>6 GB RAM | 128 GB ROM | Expandable Upto 1 TB17...</td>\n",
       "    </tr>\n",
       "    <tr>\n",
       "      <th>3</th>\n",
       "      <td>POCO C55 (Forest Green, 128 GB)</td>\n",
       "      <td>₹6,499</td>\n",
       "      <td>https://www.flipkart.com//poco-c55-forest-gree...</td>\n",
       "      <td>6 GB RAM | 128 GB ROM | Expandable Upto 1 TB17...</td>\n",
       "    </tr>\n",
       "    <tr>\n",
       "      <th>4</th>\n",
       "      <td>Motorola G34 5G (Ocean Green, 128 GB)</td>\n",
       "      <td>₹11,999</td>\n",
       "      <td>https://www.flipkart.com//motorola-g34-5g-ocea...</td>\n",
       "      <td>8 GB RAM | 128 GB ROM16.51 cm (6.5 inch) HD+ D...</td>\n",
       "    </tr>\n",
       "    <tr>\n",
       "      <th>5</th>\n",
       "      <td>POCO C51 (Royal Blue, 128 GB)</td>\n",
       "      <td>₹5,999</td>\n",
       "      <td>https://www.flipkart.com//poco-c51-royal-blue-...</td>\n",
       "      <td>6 GB RAM | 128 GB ROM | Expandable Upto 1 TB16...</td>\n",
       "    </tr>\n",
       "    <tr>\n",
       "      <th>6</th>\n",
       "      <td>Motorola G34 5G (Ice Blue, 128 GB)</td>\n",
       "      <td>₹11,999</td>\n",
       "      <td>https://www.flipkart.com//motorola-g34-5g-ice-...</td>\n",
       "      <td>8 GB RAM | 128 GB ROM16.51 cm (6.5 inch) HD+ D...</td>\n",
       "    </tr>\n",
       "    <tr>\n",
       "      <th>7</th>\n",
       "      <td>POCO C51 (Royal Blue, 64 GB)</td>\n",
       "      <td>₹5,499</td>\n",
       "      <td>https://www.flipkart.com//poco-c51-royal-blue-...</td>\n",
       "      <td>4 GB RAM | 64 GB ROM | Expandable Upto 1 TB16....</td>\n",
       "    </tr>\n",
       "    <tr>\n",
       "      <th>8</th>\n",
       "      <td>Motorola G34 5G (Charcoal Black, 128 GB)</td>\n",
       "      <td>₹11,999</td>\n",
       "      <td>https://www.flipkart.com//motorola-g34-5g-char...</td>\n",
       "      <td>8 GB RAM | 128 GB ROM16.51 cm (6.5 inch) HD+ D...</td>\n",
       "    </tr>\n",
       "    <tr>\n",
       "      <th>9</th>\n",
       "      <td>vivo T2x 5G (Aurora Gold, 128 GB)</td>\n",
       "      <td>₹14,999</td>\n",
       "      <td>https://www.flipkart.com//vivo-t2x-5g-aurora-g...</td>\n",
       "      <td>8 GB RAM | 128 GB ROM16.71 cm (6.58 inch) Full...</td>\n",
       "    </tr>\n",
       "    <tr>\n",
       "      <th>10</th>\n",
       "      <td>vivo T2x 5G (Glimmer Black, 128 GB)</td>\n",
       "      <td>₹12,999</td>\n",
       "      <td>https://www.flipkart.com//vivo-t2x-5g-glimmer-...</td>\n",
       "      <td>6 GB RAM | 128 GB ROM16.71 cm (6.58 inch) Full...</td>\n",
       "    </tr>\n",
       "    <tr>\n",
       "      <th>11</th>\n",
       "      <td>vivo T2x 5G (Marine Blue, 128 GB)</td>\n",
       "      <td>₹12,999</td>\n",
       "      <td>https://www.flipkart.com//vivo-t2x-5g-marine-b...</td>\n",
       "      <td>6 GB RAM | 128 GB ROM16.71 cm (6.58 inch) Full...</td>\n",
       "    </tr>\n",
       "    <tr>\n",
       "      <th>12</th>\n",
       "      <td>vivo T2x 5G (Aurora Gold, 128 GB)</td>\n",
       "      <td>₹12,999</td>\n",
       "      <td>https://www.flipkart.com//vivo-t2x-5g-aurora-g...</td>\n",
       "      <td>6 GB RAM | 128 GB ROM16.71 cm (6.58 inch) Full...</td>\n",
       "    </tr>\n",
       "    <tr>\n",
       "      <th>13</th>\n",
       "      <td>vivo T2x 5G (Marine Blue, 128 GB)</td>\n",
       "      <td>₹14,999</td>\n",
       "      <td>https://www.flipkart.com//vivo-t2x-5g-marine-b...</td>\n",
       "      <td>8 GB RAM | 128 GB ROM16.71 cm (6.58 inch) Full...</td>\n",
       "    </tr>\n",
       "    <tr>\n",
       "      <th>14</th>\n",
       "      <td>vivo T2x 5G (Glimmer Black, 128 GB)</td>\n",
       "      <td>₹14,999</td>\n",
       "      <td>https://www.flipkart.com//vivo-t2x-5g-glimmer-...</td>\n",
       "      <td>8 GB RAM | 128 GB ROM16.71 cm (6.58 inch) Full...</td>\n",
       "    </tr>\n",
       "    <tr>\n",
       "      <th>15</th>\n",
       "      <td>vivo T2x 5G (Glimmer Black, 128 GB)</td>\n",
       "      <td>₹11,999</td>\n",
       "      <td>https://www.flipkart.com//vivo-t2x-5g-glimmer-...</td>\n",
       "      <td>4 GB RAM | 128 GB ROM16.71 cm (6.58 inch) Full...</td>\n",
       "    </tr>\n",
       "    <tr>\n",
       "      <th>16</th>\n",
       "      <td>vivo T2x 5G (Aurora Gold, 128 GB)</td>\n",
       "      <td>₹11,999</td>\n",
       "      <td>https://www.flipkart.com//vivo-t2x-5g-aurora-g...</td>\n",
       "      <td>4 GB RAM | 128 GB ROM16.71 cm (6.58 inch) Full...</td>\n",
       "    </tr>\n",
       "    <tr>\n",
       "      <th>17</th>\n",
       "      <td>vivo T2x 5G (Marine Blue, 128 GB)</td>\n",
       "      <td>₹11,999</td>\n",
       "      <td>https://www.flipkart.com//vivo-t2x-5g-marine-b...</td>\n",
       "      <td>4 GB RAM | 128 GB ROM16.71 cm (6.58 inch) Full...</td>\n",
       "    </tr>\n",
       "    <tr>\n",
       "      <th>18</th>\n",
       "      <td>vivo T2x 5G (Black Gladiator, 128 GB)</td>\n",
       "      <td>₹14,999</td>\n",
       "      <td>https://www.flipkart.com//vivo-t2x-5g-black-gl...</td>\n",
       "      <td>8 GB RAM | 128 GB ROM16.71 cm (6.58 inch) Full...</td>\n",
       "    </tr>\n",
       "    <tr>\n",
       "      <th>19</th>\n",
       "      <td>POCO C51 (Power Black, 64 GB)</td>\n",
       "      <td>₹5,499</td>\n",
       "      <td>https://www.flipkart.com//poco-c51-power-black...</td>\n",
       "      <td>4 GB RAM | 64 GB ROM | Expandable Upto 1 TB16....</td>\n",
       "    </tr>\n",
       "    <tr>\n",
       "      <th>20</th>\n",
       "      <td>vivo T2x 5G (Black Gladiator, 128 GB)</td>\n",
       "      <td>₹12,999</td>\n",
       "      <td>https://www.flipkart.com//vivo-t2x-5g-black-gl...</td>\n",
       "      <td>6 GB RAM | 128 GB ROM16.71 cm (6.58 inch) Full...</td>\n",
       "    </tr>\n",
       "    <tr>\n",
       "      <th>21</th>\n",
       "      <td>vivo T2x 5G (Sunstone Orange, 128 GB)</td>\n",
       "      <td>₹12,999</td>\n",
       "      <td>https://www.flipkart.com//vivo-t2x-5g-sunstone...</td>\n",
       "      <td>6 GB RAM | 128 GB ROM16.71 cm (6.58 inch) Full...</td>\n",
       "    </tr>\n",
       "    <tr>\n",
       "      <th>22</th>\n",
       "      <td>POCO C55 (Power Black, 64 GB)</td>\n",
       "      <td>₹5,999</td>\n",
       "      <td>https://www.flipkart.com//poco-c55-power-black...</td>\n",
       "      <td>4 GB RAM | 64 GB ROM | Expandable Upto 1 TB17....</td>\n",
       "    </tr>\n",
       "    <tr>\n",
       "      <th>23</th>\n",
       "      <td>POCO C51 (Power Black, 128 GB)</td>\n",
       "      <td>₹5,999</td>\n",
       "      <td>https://www.flipkart.com//poco-c51-power-black...</td>\n",
       "      <td>6 GB RAM | 128 GB ROM | Expandable Upto 1 TB16...</td>\n",
       "    </tr>\n",
       "  </tbody>\n",
       "</table>\n",
       "</div>"
      ],
      "text/plain": [
       "                                 mobile_name    price  \\\n",
       "0         OPPO F25 Pro 5G (Lava Red, 128 GB)  ₹23,999   \n",
       "1               POCO C55 (Cool Blue, 128 GB)   ₹6,499   \n",
       "2             POCO C55 (Power Black, 128 GB)   ₹6,499   \n",
       "3            POCO C55 (Forest Green, 128 GB)   ₹6,499   \n",
       "4      Motorola G34 5G (Ocean Green, 128 GB)  ₹11,999   \n",
       "5              POCO C51 (Royal Blue, 128 GB)   ₹5,999   \n",
       "6         Motorola G34 5G (Ice Blue, 128 GB)  ₹11,999   \n",
       "7               POCO C51 (Royal Blue, 64 GB)   ₹5,499   \n",
       "8   Motorola G34 5G (Charcoal Black, 128 GB)  ₹11,999   \n",
       "9          vivo T2x 5G (Aurora Gold, 128 GB)  ₹14,999   \n",
       "10       vivo T2x 5G (Glimmer Black, 128 GB)  ₹12,999   \n",
       "11         vivo T2x 5G (Marine Blue, 128 GB)  ₹12,999   \n",
       "12         vivo T2x 5G (Aurora Gold, 128 GB)  ₹12,999   \n",
       "13         vivo T2x 5G (Marine Blue, 128 GB)  ₹14,999   \n",
       "14       vivo T2x 5G (Glimmer Black, 128 GB)  ₹14,999   \n",
       "15       vivo T2x 5G (Glimmer Black, 128 GB)  ₹11,999   \n",
       "16         vivo T2x 5G (Aurora Gold, 128 GB)  ₹11,999   \n",
       "17         vivo T2x 5G (Marine Blue, 128 GB)  ₹11,999   \n",
       "18     vivo T2x 5G (Black Gladiator, 128 GB)  ₹14,999   \n",
       "19             POCO C51 (Power Black, 64 GB)   ₹5,499   \n",
       "20     vivo T2x 5G (Black Gladiator, 128 GB)  ₹12,999   \n",
       "21     vivo T2x 5G (Sunstone Orange, 128 GB)  ₹12,999   \n",
       "22             POCO C55 (Power Black, 64 GB)   ₹5,999   \n",
       "23            POCO C51 (Power Black, 128 GB)   ₹5,999   \n",
       "\n",
       "                                            full_urls  \\\n",
       "0   https://www.flipkart.com//oppo-f25-pro-5g-lava...   \n",
       "1   https://www.flipkart.com//poco-c55-cool-blue-1...   \n",
       "2   https://www.flipkart.com//poco-c55-power-black...   \n",
       "3   https://www.flipkart.com//poco-c55-forest-gree...   \n",
       "4   https://www.flipkart.com//motorola-g34-5g-ocea...   \n",
       "5   https://www.flipkart.com//poco-c51-royal-blue-...   \n",
       "6   https://www.flipkart.com//motorola-g34-5g-ice-...   \n",
       "7   https://www.flipkart.com//poco-c51-royal-blue-...   \n",
       "8   https://www.flipkart.com//motorola-g34-5g-char...   \n",
       "9   https://www.flipkart.com//vivo-t2x-5g-aurora-g...   \n",
       "10  https://www.flipkart.com//vivo-t2x-5g-glimmer-...   \n",
       "11  https://www.flipkart.com//vivo-t2x-5g-marine-b...   \n",
       "12  https://www.flipkart.com//vivo-t2x-5g-aurora-g...   \n",
       "13  https://www.flipkart.com//vivo-t2x-5g-marine-b...   \n",
       "14  https://www.flipkart.com//vivo-t2x-5g-glimmer-...   \n",
       "15  https://www.flipkart.com//vivo-t2x-5g-glimmer-...   \n",
       "16  https://www.flipkart.com//vivo-t2x-5g-aurora-g...   \n",
       "17  https://www.flipkart.com//vivo-t2x-5g-marine-b...   \n",
       "18  https://www.flipkart.com//vivo-t2x-5g-black-gl...   \n",
       "19  https://www.flipkart.com//poco-c51-power-black...   \n",
       "20  https://www.flipkart.com//vivo-t2x-5g-black-gl...   \n",
       "21  https://www.flipkart.com//vivo-t2x-5g-sunstone...   \n",
       "22  https://www.flipkart.com//poco-c55-power-black...   \n",
       "23  https://www.flipkart.com//poco-c51-power-black...   \n",
       "\n",
       "                                              details  \n",
       "0   8 GB RAM | 128 GB ROM | Expandable Upto 2 TB17...  \n",
       "1   6 GB RAM | 128 GB ROM | Expandable Upto 1 TB17...  \n",
       "2   6 GB RAM | 128 GB ROM | Expandable Upto 1 TB17...  \n",
       "3   6 GB RAM | 128 GB ROM | Expandable Upto 1 TB17...  \n",
       "4   8 GB RAM | 128 GB ROM16.51 cm (6.5 inch) HD+ D...  \n",
       "5   6 GB RAM | 128 GB ROM | Expandable Upto 1 TB16...  \n",
       "6   8 GB RAM | 128 GB ROM16.51 cm (6.5 inch) HD+ D...  \n",
       "7   4 GB RAM | 64 GB ROM | Expandable Upto 1 TB16....  \n",
       "8   8 GB RAM | 128 GB ROM16.51 cm (6.5 inch) HD+ D...  \n",
       "9   8 GB RAM | 128 GB ROM16.71 cm (6.58 inch) Full...  \n",
       "10  6 GB RAM | 128 GB ROM16.71 cm (6.58 inch) Full...  \n",
       "11  6 GB RAM | 128 GB ROM16.71 cm (6.58 inch) Full...  \n",
       "12  6 GB RAM | 128 GB ROM16.71 cm (6.58 inch) Full...  \n",
       "13  8 GB RAM | 128 GB ROM16.71 cm (6.58 inch) Full...  \n",
       "14  8 GB RAM | 128 GB ROM16.71 cm (6.58 inch) Full...  \n",
       "15  4 GB RAM | 128 GB ROM16.71 cm (6.58 inch) Full...  \n",
       "16  4 GB RAM | 128 GB ROM16.71 cm (6.58 inch) Full...  \n",
       "17  4 GB RAM | 128 GB ROM16.71 cm (6.58 inch) Full...  \n",
       "18  8 GB RAM | 128 GB ROM16.71 cm (6.58 inch) Full...  \n",
       "19  4 GB RAM | 64 GB ROM | Expandable Upto 1 TB16....  \n",
       "20  6 GB RAM | 128 GB ROM16.71 cm (6.58 inch) Full...  \n",
       "21  6 GB RAM | 128 GB ROM16.71 cm (6.58 inch) Full...  \n",
       "22  4 GB RAM | 64 GB ROM | Expandable Upto 1 TB17....  \n",
       "23  6 GB RAM | 128 GB ROM | Expandable Upto 1 TB16...  "
      ]
     },
     "execution_count": 27,
     "metadata": {},
     "output_type": "execute_result"
    }
   ],
   "source": [
    "df"
   ]
  },
  {
   "cell_type": "code",
   "execution_count": null,
   "id": "7308cdb6-2449-4dd6-9c6d-547a35aaf8f0",
   "metadata": {},
   "outputs": [],
   "source": []
  }
 ],
 "metadata": {
  "kernelspec": {
   "display_name": "Python (GPU)",
   "language": "python",
   "name": "new_gpu"
  },
  "language_info": {
   "codemirror_mode": {
    "name": "ipython",
    "version": 3
   },
   "file_extension": ".py",
   "mimetype": "text/x-python",
   "name": "python",
   "nbconvert_exporter": "python",
   "pygments_lexer": "ipython3",
   "version": "3.9.18"
  },
  "toc-autonumbering": false,
  "toc-showcode": false
 },
 "nbformat": 4,
 "nbformat_minor": 5
}
