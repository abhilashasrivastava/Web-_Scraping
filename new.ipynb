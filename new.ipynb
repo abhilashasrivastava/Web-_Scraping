{
 "cells": [
  {
   "cell_type": "code",
   "execution_count": 1,
   "id": "2b094f9d-d3ed-49cb-920d-f7b70275fd84",
   "metadata": {},
   "outputs": [],
   "source": [
    "from bs4 import BeautifulSoup\n",
    "import pandas as pd\n",
    "import requests"
   ]
  },
  {
   "cell_type": "code",
   "execution_count": null,
   "id": "458eaa85-85a9-44f5-bdce-69e4a7ef60ac",
   "metadata": {},
   "outputs": [],
   "source": [
    "def full_link(links):\n",
    "    url = []\n",
    "    for i in links:\n",
    "        i = i[:i.find(\"?\")]\n",
    "        url.append(i) \n",
    "    return url\n",
    "\n"
   ]
  },
  {
   "cell_type": "code",
   "execution_count": null,
   "id": "771ffd9d-3823-495e-81cf-0848cd653bfa",
   "metadata": {},
   "outputs": [],
   "source": [
    "mobile_name = []\n",
    "price = []\n",
    "product_Star = []\n",
    "product_rating = []\n",
    "links = []\n",
    "sliced_links = []\n",
    "full_url = []\n",
    "full_urls = []"
   ]
  },
  {
   "cell_type": "code",
   "execution_count": null,
   "id": "9d412acf-5ba4-401c-86b0-69f10d667003",
   "metadata": {},
   "outputs": [],
   "source": [
    "full_urls.append(full_link(soup.find_all('span', attrs = {'class': '_1fQZEK','href':True})"
   ]
  }
 ],
 "metadata": {
  "kernelspec": {
   "display_name": "Python (GPU)",
   "language": "python",
   "name": "new_gpu"
  },
  "language_info": {
   "codemirror_mode": {
    "name": "ipython",
    "version": 3
   },
   "file_extension": ".py",
   "mimetype": "text/x-python",
   "name": "python",
   "nbconvert_exporter": "python",
   "pygments_lexer": "ipython3",
   "version": "3.9.18"
  }
 },
 "nbformat": 4,
 "nbformat_minor": 5
}
